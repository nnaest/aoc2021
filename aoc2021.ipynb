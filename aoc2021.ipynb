{
 "cells": [
  {
   "cell_type": "markdown",
   "metadata": {},
   "source": [
    "# AOC 2021\n",
    "\n",
    "Welcome to the Advent of Code 2021 !"
   ]
  },
  {
   "cell_type": "markdown",
   "metadata": {},
   "source": [
    "## Basic configuration\n",
    "\n"
   ]
  },
  {
   "cell_type": "code",
   "execution_count": null,
   "metadata": {},
   "outputs": [],
   "source": [
    "# help for aocd : https://pypi.org/project/advent-of-code-data/\n",
    "\n",
    "#!pip install aocd"
   ]
  },
  {
   "cell_type": "code",
   "execution_count": null,
   "metadata": {},
   "outputs": [],
   "source": [
    "import os\n",
    "\n",
    "#replace by your login session cookie\n",
    "os.environ['AOC_SESSION'] = \"53616c7465645f5f0ad0842a2df630f5dd756f39b35305c5fc68cb931c932f61b2afcd0b570c5c78a80003c9ab0409de\" #your login session cookie"
   ]
  },
  {
   "cell_type": "code",
   "execution_count": null,
   "metadata": {},
   "outputs": [],
   "source": [
    "from aocd import submit\n",
    "from aocd.models import Puzzle"
   ]
  },
  {
   "cell_type": "code",
   "execution_count": null,
   "metadata": {},
   "outputs": [],
   "source": [
    "import os \n",
    "import numpy as np\n",
    "from tqdm import tqdm\n",
    "import json\n",
    "import typing as tp\n",
    "from collections import Counter\n",
    "import math"
   ]
  },
  {
   "cell_type": "markdown",
   "metadata": {},
   "source": [
    "## Day 24\n",
    "https://adventofcode.com/2021/day/24\n",
    "### Prepare input"
   ]
  },
  {
   "cell_type": "code",
   "execution_count": null,
   "metadata": {},
   "outputs": [],
   "source": [
    "puzzle = Puzzle(year=2021, day=24)"
   ]
  },
  {
   "cell_type": "markdown",
   "metadata": {},
   "source": [
    "### Part 1"
   ]
  },
  {
   "cell_type": "markdown",
   "metadata": {},
   "source": [
    "### Part 2"
   ]
  },
  {
   "cell_type": "markdown",
   "metadata": {},
   "source": [
    "## Day 23\n",
    "https://adventofcode.com/2021/day/23\n",
    "### Prepare input"
   ]
  },
  {
   "cell_type": "code",
   "execution_count": null,
   "metadata": {},
   "outputs": [],
   "source": [
    "puzzle = Puzzle(year=2021, day=23)"
   ]
  },
  {
   "cell_type": "markdown",
   "metadata": {},
   "source": [
    "### Part 1"
   ]
  },
  {
   "cell_type": "markdown",
   "metadata": {},
   "source": [
    "### Part 2"
   ]
  },
  {
   "cell_type": "markdown",
   "metadata": {},
   "source": [
    "## Day 22\n",
    "https://adventofcode.com/2021/day/22\n",
    "### Prepare input "
   ]
  },
  {
   "cell_type": "code",
   "execution_count": null,
   "metadata": {},
   "outputs": [],
   "source": [
    "puzzle = Puzzle(year=2021, day=22)"
   ]
  },
  {
   "cell_type": "markdown",
   "metadata": {},
   "source": [
    "### Part 1"
   ]
  },
  {
   "cell_type": "markdown",
   "metadata": {},
   "source": [
    "### Part 2"
   ]
  },
  {
   "cell_type": "markdown",
   "metadata": {},
   "source": [
    "## Day 21\n",
    "https://adventofcode.com/2021/day/21\n",
    "### Prepare input "
   ]
  },
  {
   "cell_type": "code",
   "execution_count": null,
   "metadata": {},
   "outputs": [],
   "source": [
    "puzzle = Puzzle(year=2021, day=21)"
   ]
  },
  {
   "cell_type": "markdown",
   "metadata": {},
   "source": [
    "### Part 1"
   ]
  },
  {
   "cell_type": "markdown",
   "metadata": {},
   "source": [
    "### Part 2"
   ]
  },
  {
   "cell_type": "markdown",
   "metadata": {},
   "source": [
    "## Day 20\n",
    "https://adventofcode.com/2021/day/20\n",
    "### Prepare input "
   ]
  },
  {
   "cell_type": "code",
   "execution_count": null,
   "metadata": {},
   "outputs": [],
   "source": [
    "puzzle = Puzzle(year=2021, day=20)"
   ]
  },
  {
   "cell_type": "markdown",
   "metadata": {},
   "source": [
    "\n",
    "### Part 1"
   ]
  },
  {
   "cell_type": "markdown",
   "metadata": {},
   "source": [
    "### Part 2"
   ]
  },
  {
   "cell_type": "markdown",
   "metadata": {},
   "source": [
    "## Day 19\n",
    "https://adventofcode.com/2021/day/19\n",
    "### Prepare input"
   ]
  },
  {
   "cell_type": "code",
   "execution_count": null,
   "metadata": {},
   "outputs": [],
   "source": [
    "puzzle = Puzzle(year=2021, day=19)"
   ]
  },
  {
   "cell_type": "markdown",
   "metadata": {},
   "source": [
    "### Part 1"
   ]
  },
  {
   "cell_type": "markdown",
   "metadata": {},
   "source": [
    "### Part 2"
   ]
  },
  {
   "cell_type": "markdown",
   "metadata": {},
   "source": [
    "## Day 18\n",
    "https://adventofcode.com/2021/day/18\n",
    "### Prepare input "
   ]
  },
  {
   "cell_type": "code",
   "execution_count": null,
   "metadata": {},
   "outputs": [],
   "source": [
    "puzzle = Puzzle(year=2021, day=18)"
   ]
  },
  {
   "cell_type": "markdown",
   "metadata": {},
   "source": [
    "### Part 1"
   ]
  },
  {
   "cell_type": "markdown",
   "metadata": {},
   "source": [
    "\n",
    "### Part 2"
   ]
  },
  {
   "cell_type": "markdown",
   "metadata": {},
   "source": [
    "## Day 17\n",
    "https://adventofcode.com/2021/day/17\n",
    "### Prepare input"
   ]
  },
  {
   "cell_type": "code",
   "execution_count": null,
   "metadata": {},
   "outputs": [],
   "source": [
    "puzzle = Puzzle(year=2021, day=17)"
   ]
  },
  {
   "cell_type": "markdown",
   "metadata": {},
   "source": [
    "### Part 1"
   ]
  },
  {
   "cell_type": "markdown",
   "metadata": {},
   "source": [
    "### Part 2"
   ]
  },
  {
   "cell_type": "markdown",
   "metadata": {},
   "source": [
    "## Day 16\n",
    "https://adventofcode.com/2021/day/16\n",
    "### Prepare input"
   ]
  },
  {
   "cell_type": "code",
   "execution_count": null,
   "metadata": {},
   "outputs": [],
   "source": [
    "puzzle = Puzzle(year=2021, day=16)"
   ]
  },
  {
   "cell_type": "markdown",
   "metadata": {},
   "source": [
    "\n",
    "### Part 1"
   ]
  },
  {
   "cell_type": "markdown",
   "metadata": {},
   "source": [
    "### Part 2"
   ]
  },
  {
   "cell_type": "markdown",
   "metadata": {},
   "source": [
    "## Day 15\n",
    "https://adventofcode.com/2021/day/15\n",
    "### Prepare input"
   ]
  },
  {
   "cell_type": "code",
   "execution_count": null,
   "metadata": {},
   "outputs": [],
   "source": [
    "puzzle = Puzzle(year=2021, day=15)"
   ]
  },
  {
   "cell_type": "markdown",
   "metadata": {},
   "source": [
    "### Part 1"
   ]
  },
  {
   "cell_type": "markdown",
   "metadata": {},
   "source": [
    "### Part 2"
   ]
  },
  {
   "cell_type": "markdown",
   "metadata": {},
   "source": [
    "## Day 14\n",
    "https://adventofcode.com/2021/day/14\n",
    "### Prepare input "
   ]
  },
  {
   "cell_type": "code",
   "execution_count": null,
   "metadata": {},
   "outputs": [],
   "source": [
    "puzzle = Puzzle(year=2021, day=14)"
   ]
  },
  {
   "cell_type": "markdown",
   "metadata": {},
   "source": [
    "### Part 1"
   ]
  },
  {
   "cell_type": "markdown",
   "metadata": {},
   "source": [
    "### Part 2"
   ]
  },
  {
   "cell_type": "markdown",
   "metadata": {},
   "source": [
    "## Day 13\n",
    "https://adventofcode.com/2021/day/13\n",
    "### Prepare input "
   ]
  },
  {
   "cell_type": "code",
   "execution_count": null,
   "metadata": {},
   "outputs": [],
   "source": [
    "puzzle = Puzzle(year=2021, day=13)"
   ]
  },
  {
   "cell_type": "markdown",
   "metadata": {},
   "source": [
    "### Part 1"
   ]
  },
  {
   "cell_type": "markdown",
   "metadata": {},
   "source": [
    "### Part 2"
   ]
  },
  {
   "cell_type": "markdown",
   "metadata": {},
   "source": [
    "## Day 12\n",
    "https://adventofcode.com/2021/day/12\n",
    "### Prepare input "
   ]
  },
  {
   "cell_type": "code",
   "execution_count": null,
   "metadata": {},
   "outputs": [],
   "source": [
    "puzzle = Puzzle(year=2021, day=12)"
   ]
  },
  {
   "cell_type": "markdown",
   "metadata": {},
   "source": [
    "### Part 1"
   ]
  },
  {
   "cell_type": "markdown",
   "metadata": {},
   "source": [
    "### Part 2"
   ]
  },
  {
   "cell_type": "markdown",
   "metadata": {},
   "source": [
    "## Day 11\n",
    "https://adventofcode.com/2021/day/11\n",
    "### Prepare input "
   ]
  },
  {
   "cell_type": "code",
   "execution_count": null,
   "metadata": {},
   "outputs": [],
   "source": [
    "puzzle = Puzzle(year=2021, day=11)\n",
    "content = [[int(char) for char in line] for line in puzzle.input_data.split(\"\\n\")]"
   ]
  },
  {
   "cell_type": "markdown",
   "metadata": {},
   "source": [
    "### Part 1"
   ]
  },
  {
   "cell_type": "code",
   "execution_count": null,
   "metadata": {},
   "outputs": [],
   "source": [
    "def get_adjacents(h:int, w:int, idx: int, jdx: int) -> tp.List[tp.Tuple[int, int]]:\n",
    "    \n",
    "    adjacents = []\n",
    "    \n",
    "    if idx>0:\n",
    "        adjacents.append((idx-1, jdx))\n",
    "    if idx<h-1: \n",
    "        adjacents.append((idx+1, jdx))\n",
    "    if jdx>0:\n",
    "        adjacents.append((idx, jdx-1))\n",
    "    if jdx<w-1:\n",
    "        adjacents.append((idx, jdx+1))\n",
    "        \n",
    "    if idx>0 and jdx>0: \n",
    "        adjacents.append((idx-1,jdx-1))\n",
    "    if idx>0 and jdx<w-1: \n",
    "        adjacents.append((idx-1,jdx+1))\n",
    "    if idx<h-1 and jdx>0: \n",
    "        adjacents.append((idx+1,jdx-1))\n",
    "    if idx<h-1 and jdx<w-1:\n",
    "        adjacents.append((idx+1,jdx+1))\n",
    "           \n",
    "    return adjacents"
   ]
  },
  {
   "cell_type": "code",
   "execution_count": null,
   "metadata": {},
   "outputs": [],
   "source": [
    "def check(n_flashes:int, levels: np.array, point:tp.Tuple[int, int]): \n",
    "        \n",
    "    levels[point] = 0\n",
    "    n_flashes += 1\n",
    "    \n",
    "    adjacents = get_adjacents(levels.shape[0],levels.shape[1],point[0],point[1])\n",
    "    for adj in adjacents: \n",
    "        if levels[adj] not in {0,10}:\n",
    "            levels[adj] += 1\n",
    "            if levels[adj] == 10: \n",
    "                n_flashes, levels = check(n_flashes, levels, adj)\n",
    "                \n",
    "    return n_flashes, levels"
   ]
  },
  {
   "cell_type": "code",
   "execution_count": null,
   "metadata": {},
   "outputs": [],
   "source": [
    "def one_step(levels:np.array) -> tp.Tuple[int, np.array]:\n",
    "    h,w=levels.shape\n",
    "    n_flashes = 0\n",
    "    \n",
    "    levels += 1\n",
    "    \n",
    "    for y in range(h): \n",
    "        for x in range(w):\n",
    "            if levels[y,x] == 10: \n",
    "                cur_flashes, cur_levels = check(n_flashes, levels, (y,x))\n",
    "                n_flashes = cur_flashes\n",
    "                levels = cur_levels\n",
    "            \n",
    "    return n_flashes, levels"
   ]
  },
  {
   "cell_type": "code",
   "execution_count": null,
   "metadata": {},
   "outputs": [],
   "source": [
    "levels = np.array(content)\n",
    "tot_flashes = 0\n",
    "for _ in range(100): \n",
    "    n_flashes, levels = one_step(levels)\n",
    "    tot_flashes += n_flashes\n",
    "    \n",
    "tot_flashes"
   ]
  },
  {
   "cell_type": "code",
   "execution_count": null,
   "metadata": {},
   "outputs": [],
   "source": [
    "puzzle.answer_a = tot_flashes"
   ]
  },
  {
   "cell_type": "markdown",
   "metadata": {},
   "source": [
    "### Part 2"
   ]
  },
  {
   "cell_type": "code",
   "execution_count": null,
   "metadata": {},
   "outputs": [],
   "source": [
    "levels = np.array(content)\n",
    "count = 0\n",
    "while not all(levels[y,x]==0 for y in range(levels.shape[0]) for x in range(levels.shape[1])):\n",
    "    _, levels = one_step(levels)\n",
    "    count += 1\n",
    "\n",
    "count "
   ]
  },
  {
   "cell_type": "code",
   "execution_count": null,
   "metadata": {},
   "outputs": [],
   "source": [
    "puzzle.answer_b = count"
   ]
  },
  {
   "cell_type": "markdown",
   "metadata": {},
   "source": [
    "## Day 10\n",
    "https://adventofcode.com/2021/day/10\n",
    "### Prepare input "
   ]
  },
  {
   "cell_type": "code",
   "execution_count": null,
   "metadata": {},
   "outputs": [],
   "source": [
    "puzzle = Puzzle(year=2021, day=10)\n",
    "content = puzzle.input_data.split(\"\\n\")"
   ]
  },
  {
   "cell_type": "markdown",
   "metadata": {},
   "source": [
    "### Part 1"
   ]
  },
  {
   "cell_type": "code",
   "execution_count": null,
   "metadata": {},
   "outputs": [],
   "source": [
    "from collections import deque"
   ]
  },
  {
   "cell_type": "code",
   "execution_count": null,
   "metadata": {},
   "outputs": [],
   "source": [
    "corrupted = []\n",
    "for idx, line in enumerate(content): \n",
    "    cur_chunk = deque()\n",
    "    for jdx,char in enumerate(line): \n",
    "        if char in {\"(\", \"[\",\"{\",\"<\"}: \n",
    "            cur_chunk.append(char)\n",
    "            continue\n",
    "        if char in {\")\", \"]\", \"}\", \">\"}:\n",
    "            last_char = cur_chunk.pop()\n",
    "            if f\"{last_char}{char}\" not in {\"()\",\"[]\", \"{}\", \"<>\"}:\n",
    "                corrupted.append((idx, line, char))\n",
    "                break "
   ]
  },
  {
   "cell_type": "code",
   "execution_count": null,
   "metadata": {},
   "outputs": [],
   "source": [
    "points = 0\n",
    "for _,_,char in corrupted: \n",
    "    if char == \")\":\n",
    "        points += 3\n",
    "    elif char == \"]\": \n",
    "        points += 57\n",
    "    elif char == \"}\": \n",
    "        points += 1197\n",
    "    else: \n",
    "        points += 25137"
   ]
  },
  {
   "cell_type": "code",
   "execution_count": null,
   "metadata": {},
   "outputs": [],
   "source": [
    "points"
   ]
  },
  {
   "cell_type": "code",
   "execution_count": null,
   "metadata": {},
   "outputs": [],
   "source": [
    "puzzle.answer_a = points"
   ]
  },
  {
   "cell_type": "markdown",
   "metadata": {},
   "source": [
    "### Part 2"
   ]
  },
  {
   "cell_type": "code",
   "execution_count": null,
   "metadata": {},
   "outputs": [],
   "source": [
    "new_content = set(content) - set([line for _, line, _ in corrupted])"
   ]
  },
  {
   "cell_type": "code",
   "execution_count": null,
   "metadata": {},
   "outputs": [],
   "source": [
    "open_sequences = []\n",
    "for idx, line in enumerate(new_content): \n",
    "    cur_chunk = deque()\n",
    "    for jdx,char in enumerate(line): \n",
    "        if char in {\"(\", \"[\",\"{\",\"<\"}: \n",
    "            cur_chunk.append(char)\n",
    "        elif char in {\")\", \"]\", \"}\", \">\"}:\n",
    "            last_char = cur_chunk.pop()\n",
    "    open_sequences.append(cur_chunk)"
   ]
  },
  {
   "cell_type": "code",
   "execution_count": null,
   "metadata": {},
   "outputs": [],
   "source": [
    "closing_sequences = []\n",
    "for seq in open_sequences: \n",
    "    close = []\n",
    "    while seq: \n",
    "        cur_char = seq.pop()\n",
    "        if cur_char == \"(\":\n",
    "            close.append(\")\")\n",
    "        elif cur_char == \"[\":\n",
    "            close.append(\"]\")\n",
    "        elif cur_char == \"{\":\n",
    "            close.append(\"}\")\n",
    "        else:\n",
    "            close.append(\">\")\n",
    "    \n",
    "    closing_sequences.append(close)\n",
    "    "
   ]
  },
  {
   "cell_type": "code",
   "execution_count": null,
   "metadata": {},
   "outputs": [],
   "source": [
    "total_scores = []\n",
    "for seq in closing_sequences: \n",
    "    score = 0\n",
    "    for char in seq: \n",
    "        score *= 5\n",
    "        if char == \")\":\n",
    "            score += 1\n",
    "        elif char == \"]\": \n",
    "            score += 2\n",
    "        elif char == \"}\": \n",
    "            score += 3\n",
    "        else: \n",
    "            score += 4\n",
    "    total_scores.append(score)"
   ]
  },
  {
   "cell_type": "code",
   "execution_count": null,
   "metadata": {},
   "outputs": [],
   "source": [
    "middle_idx = len(total_scores) // 2"
   ]
  },
  {
   "cell_type": "code",
   "execution_count": null,
   "metadata": {},
   "outputs": [],
   "source": [
    "total_scores.sort()"
   ]
  },
  {
   "cell_type": "code",
   "execution_count": null,
   "metadata": {},
   "outputs": [],
   "source": [
    "answ = total_scores[middle_idx]\n",
    "answ"
   ]
  },
  {
   "cell_type": "code",
   "execution_count": null,
   "metadata": {},
   "outputs": [],
   "source": [
    "puzzle.answer_b = answ"
   ]
  },
  {
   "cell_type": "markdown",
   "metadata": {},
   "source": [
    "## Day 9\n",
    "https://adventofcode.com/2021/day/9\n",
    "### Prepare input "
   ]
  },
  {
   "cell_type": "code",
   "execution_count": null,
   "metadata": {},
   "outputs": [],
   "source": [
    "puzzle = Puzzle(year=2021, day=9)\n",
    "content = puzzle.input_data.split(\"\\n\")"
   ]
  },
  {
   "cell_type": "markdown",
   "metadata": {},
   "source": [
    "### Part 1"
   ]
  },
  {
   "cell_type": "code",
   "execution_count": null,
   "metadata": {},
   "outputs": [],
   "source": [
    "def get_adjacents(content: tp.Sequence[str], idx: int, jdx: int) -> tp.List[tp.Tuple[str, int, int]]:\n",
    "    \n",
    "    adjacents = []\n",
    "    \n",
    "    if idx>0: \n",
    "        adjacents.append((content[idx-1][jdx], idx-1, jdx))\n",
    "    if idx<len(content)-1: \n",
    "        adjacents.append((content[idx+1][jdx], idx+1, jdx))\n",
    "    if jdx>0:\n",
    "        adjacents.append((content[idx][jdx-1], idx, jdx-1))\n",
    "    if jdx<len(content[0])-1:\n",
    "        adjacents.append((content[idx][jdx+1], idx, jdx+1))\n",
    "    \n",
    "    return adjacents"
   ]
  },
  {
   "cell_type": "code",
   "execution_count": null,
   "metadata": {},
   "outputs": [],
   "source": [
    "low = []\n",
    "for idx, line in enumerate(content): \n",
    "    for jdx, point in enumerate(line): \n",
    "        adjacents = get_adjacents(content, idx, jdx)\n",
    "\n",
    "        adj_values = list(int(adj[0]) for adj in adjacents)\n",
    "        if all(x>int(point) for x in adj_values): \n",
    "            low.append([point, idx, jdx])"
   ]
  },
  {
   "cell_type": "code",
   "execution_count": null,
   "metadata": {},
   "outputs": [],
   "source": [
    "answ = sum(int(pt[0])+1 for pt in low)\n",
    "answ"
   ]
  },
  {
   "cell_type": "code",
   "execution_count": null,
   "metadata": {},
   "outputs": [],
   "source": [
    "submit(answ, part=\"a\", day=9, year=2021) "
   ]
  },
  {
   "cell_type": "markdown",
   "metadata": {},
   "source": [
    "### Part 2"
   ]
  },
  {
   "cell_type": "code",
   "execution_count": null,
   "metadata": {},
   "outputs": [],
   "source": [
    "def get_bassin_size(point: tp.Tuple[str, int, int], seen: tp.Optional[tp.Set]=None) -> int: \n",
    "    if seen is None: \n",
    "        seen = set()\n",
    "    _, idx, jdx = point\n",
    "    \n",
    "    adjacents = get_adjacents(content, idx, jdx)\n",
    "    \n",
    "    size = 0\n",
    "    for adj in adjacents: \n",
    "        if adj not in seen and int(adj[0]) != 9: \n",
    "            seen.add(adj)\n",
    "            size += 1 + get_bassin_size(adj, seen)\n",
    "    \n",
    "    return size"
   ]
  },
  {
   "cell_type": "code",
   "execution_count": null,
   "metadata": {},
   "outputs": [],
   "source": [
    "bassin_sizes = []\n",
    "\n",
    "for point in low: \n",
    "    bassin_sizes.append(get_bassin_size(point))\n",
    "    \n",
    "answ = math.prod(sorted(bassin_sizes)[-3:])\n",
    "answ"
   ]
  },
  {
   "cell_type": "code",
   "execution_count": null,
   "metadata": {},
   "outputs": [],
   "source": [
    "submit(answ, part=\"b\", day=9, year=2021) "
   ]
  },
  {
   "cell_type": "markdown",
   "metadata": {},
   "source": [
    "## Day 8\n",
    "https://adventofcode.com/2021/day/8\n",
    "### Prepare input "
   ]
  },
  {
   "cell_type": "markdown",
   "metadata": {},
   "source": [
    "### Part 1"
   ]
  },
  {
   "cell_type": "code",
   "execution_count": null,
   "metadata": {},
   "outputs": [],
   "source": [
    "puzzle = Puzzle(year=2021, day=8)\n",
    "content = [x.split(\" | \") for x in puzzle.input_data.split(\"\\n\")]\n",
    "content = [[x1.split(\" \"), x2.split(\" \")] for x1, x2 in content]"
   ]
  },
  {
   "cell_type": "markdown",
   "metadata": {},
   "source": [
    "### Part 1"
   ]
  },
  {
   "cell_type": "code",
   "execution_count": null,
   "metadata": {},
   "outputs": [],
   "source": [
    "n_segments = {0:6, 1:2, 2:5, 3:5, 4:4, 5:5, 6:6, 7:3, 8:7, 9:6}"
   ]
  },
  {
   "cell_type": "code",
   "execution_count": null,
   "metadata": {},
   "outputs": [],
   "source": [
    "answ = 0\n",
    "for _, output in content: \n",
    "    for digits in output: \n",
    "        if len(digits) in {n_segments[1], n_segments[4], n_segments[7], n_segments[8]}:\n",
    "            answ += 1\n",
    "answ"
   ]
  },
  {
   "cell_type": "code",
   "execution_count": null,
   "metadata": {},
   "outputs": [],
   "source": [
    "submit(answ, part=\"a\", day=8, year=2021) "
   ]
  },
  {
   "cell_type": "markdown",
   "metadata": {},
   "source": [
    "### Part2"
   ]
  },
  {
   "cell_type": "code",
   "execution_count": null,
   "metadata": {},
   "outputs": [],
   "source": [
    "def decode(patterns: tp.Sequence[str]) -> tp.Dict[tp.FrozenSet, int]:\n",
    "    \n",
    "    positions = {}\n",
    "    solutions = {}\n",
    "    \n",
    "    solutions[1] = [el for el in patterns if len(el) == 2][0]\n",
    "    solutions[7] = [el for el in patterns if len(el) == 3][0]\n",
    "    solutions[4] = [el for el in patterns if len(el) == 4][0]\n",
    "    solutions[8] = [el for el in patterns if len(el) == 7][0]\n",
    "    \n",
    "    positions[\"t\"] = set(solutions[7]) - set(solutions[1])\n",
    "    \n",
    "    solutions[9] = [el for el in patterns if len(el) == 6 and len(set(el) - set(solutions[4])) == 2][0]\n",
    "    positions[\"b\"] = set(solutions[9]) - set(solutions[4]) - positions[\"t\"]\n",
    "    \n",
    "    solutions[0] = [el for el in patterns if len(el) == 6 and el != solutions[9] and set(solutions[7]) <= set(el)][0]\n",
    "    solutions[6] = [el for el in patterns if len(el) == 6 and el != solutions[9] and el != solutions[0]][0]\n",
    "    \n",
    "    positions[\"m\"] = set(solutions[6]) - set(solutions[0])\n",
    "    positions[\"tr\"] = set(solutions[0]) - set(solutions[6])\n",
    "    positions[\"br\"] = set(solutions[1]) - positions[\"tr\"]\n",
    "    \n",
    "    solutions[5] = [el for el in patterns if len(el) == 5 and not (positions[\"tr\"] <= set(el))][0]\n",
    "    solutions[3] = [el for el in patterns if len(el) == 5 and el != solutions[5] and positions[\"br\"] <= set(el)][0]\n",
    "    solutions[2] = [el for el in patterns if len(el) == 5 and el != solutions[5] and el != solutions[3]][0]\n",
    "    \n",
    "    return {frozenset(v): k for k, v in solutions.items()}\n",
    "    "
   ]
  },
  {
   "cell_type": "code",
   "execution_count": null,
   "metadata": {},
   "outputs": [],
   "source": [
    "answ = 0\n",
    "for entry in content: \n",
    "    patterns, outputs = entry\n",
    "    \n",
    "    code = decode(patterns)\n",
    "    \n",
    "    result = 0\n",
    "    for out in outputs:\n",
    "        result = result*10 + code[frozenset(out)]\n",
    "    answ += result\n",
    "\n",
    "answ"
   ]
  },
  {
   "cell_type": "code",
   "execution_count": null,
   "metadata": {},
   "outputs": [],
   "source": [
    "submit(answ, part=\"b\", day=8, year=2021) "
   ]
  },
  {
   "cell_type": "markdown",
   "metadata": {},
   "source": [
    "## Day 7\n",
    "https://adventofcode.com/2021/day/7\n",
    "### Prepare input "
   ]
  },
  {
   "cell_type": "code",
   "execution_count": null,
   "metadata": {},
   "outputs": [],
   "source": [
    "puzzle = Puzzle(year=2021, day=7)\n",
    "content = list(map(int, puzzle.input_data.split(\",\")))"
   ]
  },
  {
   "cell_type": "markdown",
   "metadata": {},
   "source": [
    "### Part 1"
   ]
  },
  {
   "cell_type": "code",
   "execution_count": null,
   "metadata": {},
   "outputs": [],
   "source": [
    "from statistics import median, mean"
   ]
  },
  {
   "cell_type": "code",
   "execution_count": null,
   "metadata": {},
   "outputs": [],
   "source": [
    "med_pos = int(median(content))\n",
    "\n",
    "def dist(pos: int) -> int: \n",
    "    return abs(pos-med_pos)\n",
    "\n",
    "answ = sum(map(dist, content))\n",
    "answ"
   ]
  },
  {
   "cell_type": "code",
   "execution_count": null,
   "metadata": {},
   "outputs": [],
   "source": [
    "submit(answ, part=\"a\", day=7, year=2021) "
   ]
  },
  {
   "cell_type": "markdown",
   "metadata": {},
   "source": [
    "### Part 2"
   ]
  },
  {
   "cell_type": "code",
   "execution_count": null,
   "metadata": {},
   "outputs": [],
   "source": [
    "mean_pos = int(mean(content))\n",
    "\n",
    "def dist2(pos:int) -> int: \n",
    "    n = abs(pos - mean_pos)\n",
    "    return n * (n + 1) // 2 \n",
    "\n",
    "answ = sum(map(dist2, content))\n",
    "answ"
   ]
  },
  {
   "cell_type": "code",
   "execution_count": null,
   "metadata": {},
   "outputs": [],
   "source": [
    "submit(answ, part=\"b\", day=7, year=2021) "
   ]
  },
  {
   "cell_type": "markdown",
   "metadata": {},
   "source": [
    "## Day 6\n",
    "https://adventofcode.com/2021/day/6\n",
    "### Prepare input"
   ]
  },
  {
   "cell_type": "code",
   "execution_count": null,
   "metadata": {
    "scrolled": true
   },
   "outputs": [],
   "source": [
    "puzzle = Puzzle(year=2021, day=6)\n",
    "content = list(map(int, puzzle.input_data.split(\",\")))"
   ]
  },
  {
   "cell_type": "markdown",
   "metadata": {},
   "source": [
    "### Part 1"
   ]
  },
  {
   "cell_type": "code",
   "execution_count": null,
   "metadata": {},
   "outputs": [],
   "source": [
    "def iterate(cur_count: Counter) -> Counter: \n",
    "    new_count = Counter() \n",
    "    for timer in range(1,9): \n",
    "        new_count[timer-1] = cur_count[timer]\n",
    "    new_count[6] += cur_count[0]\n",
    "    new_count[8] += cur_count[0]\n",
    "    \n",
    "    return new_count"
   ]
  },
  {
   "cell_type": "code",
   "execution_count": null,
   "metadata": {},
   "outputs": [],
   "source": [
    "count = Counter(content)\n",
    "for _ in range(80):\n",
    "    count = iterate(count)"
   ]
  },
  {
   "cell_type": "code",
   "execution_count": null,
   "metadata": {},
   "outputs": [],
   "source": [
    "answ = sum(count.values())\n",
    "answ"
   ]
  },
  {
   "cell_type": "code",
   "execution_count": null,
   "metadata": {},
   "outputs": [],
   "source": [
    "submit(answ, part=\"a\", day=6, year=2021) "
   ]
  },
  {
   "cell_type": "markdown",
   "metadata": {},
   "source": [
    "### Part 2"
   ]
  },
  {
   "cell_type": "code",
   "execution_count": null,
   "metadata": {},
   "outputs": [],
   "source": [
    "count = Counter(content)\n",
    "for _ in range(256): \n",
    "    count = iterate(count)\n",
    "    \n",
    "answ = sum(count.values())\n",
    "answ"
   ]
  },
  {
   "cell_type": "code",
   "execution_count": null,
   "metadata": {},
   "outputs": [],
   "source": [
    "submit(answ, part=\"b\", day=6, year=2021) "
   ]
  },
  {
   "cell_type": "markdown",
   "metadata": {},
   "source": [
    "## Day 5\n",
    "https://adventofcode.com/2021/day/5\n",
    "### Prepare input"
   ]
  },
  {
   "cell_type": "code",
   "execution_count": null,
   "metadata": {},
   "outputs": [],
   "source": [
    "puzzle = Puzzle(year=2021, day=5)"
   ]
  },
  {
   "cell_type": "code",
   "execution_count": null,
   "metadata": {},
   "outputs": [],
   "source": [
    "content = puzzle.input_data.split(\"\\n\")"
   ]
  },
  {
   "cell_type": "code",
   "execution_count": null,
   "metadata": {},
   "outputs": [],
   "source": [
    "class Diagram:\n",
    "    def __init__(self, incontent: tp.Sequence[str]) -> None: \n",
    "        \n",
    "        self.segments = [[tuple(map(int, row.split(\",\"))) for row in line.split(\" -> \")] for line in incontent]\n",
    "            \n",
    "        self.rows = self.get_rows()\n",
    "        self.cols = self.get_cols()\n",
    "        self.diags = self.get_diags()\n",
    "        \n",
    "        self.counter = Counter()\n",
    "        \n",
    "    def get_rows(self) -> tp.List[tp.List[tp.Tuple[int,int]]]: \n",
    "        return [segm for segm in self.segments if segm[0][0] == segm[1][0]]\n",
    "    \n",
    "    def get_cols(self) -> tp.List[tp.List[tp.Tuple[int,int]]]: \n",
    "        return [segm for segm in self.segments if segm[0][1] == segm[1][1]]\n",
    "    \n",
    "    def get_diags(self) -> tp.List[tp.List[tp.Tuple[int,int]]]: \n",
    "        return [segm for segm in self.segments if segm[0][0] != segm[1][0] and segm[0][1] != segm[1][1]]\n",
    "        \n",
    "    def count_rows(self) -> None: \n",
    "        for (x1,y1),(x2,y2) in self.rows:\n",
    "            dy = 1 if y1 < y2 else -1\n",
    "            self.counter.update([(x1, y) for y in range(y1, y2 + dy, dy)])\n",
    " \n",
    "    def count_cols(self) -> None:\n",
    "        for (x1,y1),(x2,y2) in self.cols:\n",
    "            dx = 1 if x1 < x2 else -1\n",
    "            self.counter.update([(x, y1) for x in range(x1, x2 + dx, dx)])\n",
    "                \n",
    "    def count_diags(self) -> None:\n",
    "        for (x1,y1),(x2,y2) in self.diags:\n",
    "            dx = 1 if x1 < x2 else -1\n",
    "            dy = 1 if y1 < y2 else -1\n",
    "            self.counter.update([(x, y) for x, y in zip(range(x1, x2 + dx, dx), range(y1, y2 + dy, dy))])\n",
    "            \n",
    "    def overlap(self, part: int=1) -> int: \n",
    "        self.reset_counter()\n",
    "        \n",
    "        self.count_rows()\n",
    "        self.count_cols() \n",
    "        if part == 2:\n",
    "            self.count_diags()\n",
    "        \n",
    "        return len([point for point, count in self.counter.items() if count >= 2])\n",
    "        \n",
    "    def reset_counter(self) -> None:\n",
    "        self.counter = Counter()\n",
    "        "
   ]
  },
  {
   "cell_type": "markdown",
   "metadata": {},
   "source": [
    "### Part 1"
   ]
  },
  {
   "cell_type": "code",
   "execution_count": null,
   "metadata": {},
   "outputs": [],
   "source": [
    "diagram = Diagram(content)"
   ]
  },
  {
   "cell_type": "code",
   "execution_count": null,
   "metadata": {},
   "outputs": [],
   "source": [
    "answ=diagram.overlap()\n",
    "answ"
   ]
  },
  {
   "cell_type": "code",
   "execution_count": null,
   "metadata": {},
   "outputs": [],
   "source": [
    "submit(answ, part=\"a\", day=5, year=2021) "
   ]
  },
  {
   "cell_type": "markdown",
   "metadata": {},
   "source": [
    "### Part 2"
   ]
  },
  {
   "cell_type": "code",
   "execution_count": null,
   "metadata": {},
   "outputs": [],
   "source": [
    "answ=diagram.overlap(2)\n",
    "answ"
   ]
  },
  {
   "cell_type": "code",
   "execution_count": null,
   "metadata": {},
   "outputs": [],
   "source": [
    "submit(answ, part=\"b\", day=5, year=2021)"
   ]
  },
  {
   "cell_type": "markdown",
   "metadata": {},
   "source": [
    "## Day 4\n",
    "https://adventofcode.com/2021/day/4\n",
    "### Prepare input "
   ]
  },
  {
   "cell_type": "code",
   "execution_count": null,
   "metadata": {},
   "outputs": [],
   "source": [
    "puzzle = Puzzle(year=2021, day=4)"
   ]
  },
  {
   "cell_type": "code",
   "execution_count": null,
   "metadata": {},
   "outputs": [],
   "source": [
    "content = puzzle.input_data.split(\"\\n\\n\")"
   ]
  },
  {
   "cell_type": "code",
   "execution_count": null,
   "metadata": {
    "scrolled": true
   },
   "outputs": [],
   "source": [
    "numbers = [int(x) for x in content[0].split(\",\")]"
   ]
  },
  {
   "cell_type": "code",
   "execution_count": null,
   "metadata": {},
   "outputs": [],
   "source": [
    "class Board: \n",
    "    def __init__(self, inboard: tp.Sequence[tp.Sequence[int]]) -> None: \n",
    "        self.board = np.array(inboard)\n",
    "        self.rows = [set(r) for r in self.board]\n",
    "        self.cols = [set(c) for c in np.transpose(self.board)]\n",
    "    \n",
    "    def sum_leftover(self) -> int: \n",
    "        return sum(sum(r) for r in self.rows)\n",
    "    \n",
    "    def discard_nb(self, nb: int) -> None: \n",
    "        self.rows = [r-{nb} for r in self.rows]\n",
    "        self.cols = [c-{nb} for c in self.cols]\n",
    "    \n",
    "    def is_winner(self) -> bool: \n",
    "        return not (all(self.rows) and all(self.cols))"
   ]
  },
  {
   "cell_type": "code",
   "execution_count": null,
   "metadata": {},
   "outputs": [],
   "source": [
    "def set_boards(boards_content: tp.Sequence[str]) -> tp.List[Board]: \n",
    "    return [Board([[int(n) for n in row.split()] for row in line.split(\"\\n\")]) for line in boards_content]"
   ]
  },
  {
   "cell_type": "code",
   "execution_count": null,
   "metadata": {},
   "outputs": [],
   "source": [
    "boards = set_boards(content[1:])\n",
    "\n",
    "success_rate = []\n",
    "for bdx, board in enumerate(boards): \n",
    "    for ndx, nb in enumerate(numbers): \n",
    "        board.discard_nb(nb)\n",
    "        if board.is_winner(): \n",
    "            success_rate.append([ndx, nb * board.sum_leftover()])\n",
    "            break\n",
    "            \n",
    "success_rate.sort(key = lambda x: x[0])"
   ]
  },
  {
   "cell_type": "markdown",
   "metadata": {},
   "source": [
    "### Part 1"
   ]
  },
  {
   "cell_type": "code",
   "execution_count": null,
   "metadata": {},
   "outputs": [],
   "source": [
    "answ = success_rate[0][1]\n",
    "answ"
   ]
  },
  {
   "cell_type": "code",
   "execution_count": null,
   "metadata": {},
   "outputs": [],
   "source": [
    "submit(answ, part=\"a\", day=4, year=2021)"
   ]
  },
  {
   "cell_type": "markdown",
   "metadata": {},
   "source": [
    "### Part 2"
   ]
  },
  {
   "cell_type": "code",
   "execution_count": null,
   "metadata": {},
   "outputs": [],
   "source": [
    "answ = success_rate[-1][1]\n",
    "answ"
   ]
  },
  {
   "cell_type": "code",
   "execution_count": null,
   "metadata": {},
   "outputs": [],
   "source": [
    "submit(answ, part=\"b\", day=4, year=2021)"
   ]
  },
  {
   "cell_type": "markdown",
   "metadata": {},
   "source": [
    "## Day 3\n",
    "https://adventofcode.com/2021/day/3\n",
    "### Prepare input"
   ]
  },
  {
   "cell_type": "code",
   "execution_count": null,
   "metadata": {},
   "outputs": [],
   "source": [
    "puzzle = Puzzle(year=2021, day=3)\n",
    "content = puzzle.input_data.split(\"\\n\")"
   ]
  },
  {
   "cell_type": "code",
   "execution_count": null,
   "metadata": {},
   "outputs": [],
   "source": [
    "content"
   ]
  },
  {
   "cell_type": "markdown",
   "metadata": {},
   "source": [
    "### Part 1"
   ]
  },
  {
   "cell_type": "code",
   "execution_count": null,
   "metadata": {},
   "outputs": [],
   "source": [
    "def transpose(inlist: tp.Sequence[str]) -> tp.List[str]: \n",
    "    return [\"\".join(s) for s in zip(*inlist)]"
   ]
  },
  {
   "cell_type": "code",
   "execution_count": null,
   "metadata": {},
   "outputs": [],
   "source": [
    "def bin2int(binary: tp.Union[str, tp.Sequence[str]]) -> int: \n",
    "    if isinstance(binary, list): \n",
    "        return int(\"\".join(binary),2)\n",
    "    return int(binary, 2)"
   ]
  },
  {
   "cell_type": "code",
   "execution_count": null,
   "metadata": {},
   "outputs": [],
   "source": [
    "counters = [Counter(pos) for pos in transpose(content)]"
   ]
  },
  {
   "cell_type": "code",
   "execution_count": null,
   "metadata": {},
   "outputs": [],
   "source": [
    "gamma = [\"0\" if c[\"0\"]>c[\"1\"] else \"1\" for c in counters]\n",
    "eps = ''.join(str(1-int(x)) for x in gamma)"
   ]
  },
  {
   "cell_type": "code",
   "execution_count": null,
   "metadata": {},
   "outputs": [],
   "source": [
    "answ = bin2int(gamma) * bin2int(eps)\n",
    "answ"
   ]
  },
  {
   "cell_type": "code",
   "execution_count": null,
   "metadata": {
    "scrolled": true
   },
   "outputs": [],
   "source": [
    "submit(answ, part=\"a\", day=3, year=2021)"
   ]
  },
  {
   "cell_type": "markdown",
   "metadata": {},
   "source": [
    "### Part 2"
   ]
  },
  {
   "cell_type": "code",
   "execution_count": null,
   "metadata": {},
   "outputs": [],
   "source": [
    "def keep(inlist: tp.Sequence[str], bpos: int, bval: str) -> tp.List[str]: \n",
    "    return [el for el in inlist if el[bpos] == bval]"
   ]
  },
  {
   "cell_type": "code",
   "execution_count": null,
   "metadata": {},
   "outputs": [],
   "source": [
    "def apply_criteria(init: tp.Sequence[str], default: int) -> int: \n",
    "    out = init.copy()\n",
    "    idx = 0\n",
    "    while len(out) > 1: \n",
    "        counter= Counter(transpose(out)[idx])\n",
    "        if counter[\"0\"]>counter[\"1\"]:\n",
    "            out = keep(out, idx, str(1-default))\n",
    "        else: \n",
    "            out = keep(out, idx, str(default))\n",
    "        idx += 1\n",
    "    return bin2int(out[0])"
   ]
  },
  {
   "cell_type": "code",
   "execution_count": null,
   "metadata": {},
   "outputs": [],
   "source": [
    "oxygen = apply_criteria(content, 1)\n",
    "co2 = apply_criteria(content, 0)\n",
    "anws = oxygen * co2\n",
    "answ"
   ]
  },
  {
   "cell_type": "code",
   "execution_count": null,
   "metadata": {
    "scrolled": true
   },
   "outputs": [],
   "source": [
    "submit(answ, part=\"b\", day=3, year=2021)"
   ]
  },
  {
   "cell_type": "markdown",
   "metadata": {},
   "source": [
    "## Day 2\n",
    "https://adventofcode.com/2021/day/2\n",
    "### Prepare input"
   ]
  },
  {
   "cell_type": "code",
   "execution_count": null,
   "metadata": {},
   "outputs": [],
   "source": [
    "puzzle = Puzzle(year=2021, day=2)"
   ]
  },
  {
   "cell_type": "code",
   "execution_count": null,
   "metadata": {},
   "outputs": [],
   "source": [
    "content = [x.split(\" \") for x in puzzle.input_data.split(\"\\n\")]"
   ]
  },
  {
   "cell_type": "code",
   "execution_count": null,
   "metadata": {
    "scrolled": true
   },
   "outputs": [],
   "source": [
    "content"
   ]
  },
  {
   "cell_type": "markdown",
   "metadata": {},
   "source": [
    "### Part 1"
   ]
  },
  {
   "cell_type": "code",
   "execution_count": null,
   "metadata": {},
   "outputs": [],
   "source": [
    "h_pos = 0\n",
    "depth = 0\n",
    "for step, x in content: \n",
    "    x = int(x)\n",
    "    \n",
    "    if step == \"forward\": \n",
    "        h_pos += x\n",
    "    elif step == \"down\": \n",
    "        depth += x\n",
    "    elif step == \"up\": \n",
    "        depth -= x\n",
    "        \n",
    "answ = h_pos * depth\n",
    "answ"
   ]
  },
  {
   "cell_type": "code",
   "execution_count": null,
   "metadata": {},
   "outputs": [],
   "source": [
    "submit(answ, part=\"a\", day=2, year=2021)"
   ]
  },
  {
   "cell_type": "markdown",
   "metadata": {},
   "source": [
    "### Part 2"
   ]
  },
  {
   "cell_type": "code",
   "execution_count": null,
   "metadata": {},
   "outputs": [],
   "source": [
    "h_pos = 0\n",
    "depth = 0\n",
    "aim = 0\n",
    "for step, x in content: \n",
    "    x = int(x)\n",
    "    \n",
    "    if step == \"forward\": \n",
    "        h_pos += x\n",
    "        depth += (aim * x)\n",
    "    elif step == \"down\": \n",
    "        aim += x\n",
    "    elif step == \"up\": \n",
    "        aim -= x\n",
    "\n",
    "print(h_pos, depth, aim)\n",
    "answ = h_pos * depth\n",
    "answ"
   ]
  },
  {
   "cell_type": "code",
   "execution_count": null,
   "metadata": {},
   "outputs": [],
   "source": [
    "submit(answ, part=\"b\", day=2, year=2021)"
   ]
  },
  {
   "cell_type": "markdown",
   "metadata": {},
   "source": [
    "## Day 1\n",
    "https://adventofcode.com/2021/day/1"
   ]
  },
  {
   "cell_type": "markdown",
   "metadata": {},
   "source": [
    "### Prepare input"
   ]
  },
  {
   "cell_type": "code",
   "execution_count": null,
   "metadata": {},
   "outputs": [],
   "source": [
    "puzzle = Puzzle(year=2021, day=1)"
   ]
  },
  {
   "cell_type": "code",
   "execution_count": null,
   "metadata": {},
   "outputs": [],
   "source": [
    "content = [int(x) for x in puzzle.input_data.split(\"\\n\")]"
   ]
  },
  {
   "cell_type": "markdown",
   "metadata": {},
   "source": [
    "### Part 1"
   ]
  },
  {
   "cell_type": "code",
   "execution_count": null,
   "metadata": {},
   "outputs": [],
   "source": [
    "def count_increase(inlist: tp.Sequence[int]) -> int: \n",
    "    count = 0\n",
    "    for i in range(len(inlist)-1): \n",
    "        if inlist[i] < inlist[i+1]:\n",
    "            count += 1\n",
    "            \n",
    "    return count"
   ]
  },
  {
   "cell_type": "code",
   "execution_count": null,
   "metadata": {},
   "outputs": [],
   "source": [
    "answ = count_increase(content)\n",
    "answ"
   ]
  },
  {
   "cell_type": "code",
   "execution_count": null,
   "metadata": {},
   "outputs": [],
   "source": [
    "submit(answ, part=\"a\", day=1, year=2021)"
   ]
  },
  {
   "cell_type": "markdown",
   "metadata": {},
   "source": [
    "### Part 2"
   ]
  },
  {
   "cell_type": "code",
   "execution_count": null,
   "metadata": {},
   "outputs": [],
   "source": [
    "sums = [sum(content[i:i+3]) for i in range(len(content)-2)]"
   ]
  },
  {
   "cell_type": "code",
   "execution_count": null,
   "metadata": {},
   "outputs": [],
   "source": [
    "answ = count_increase(sums)\n",
    "answ"
   ]
  },
  {
   "cell_type": "code",
   "execution_count": null,
   "metadata": {},
   "outputs": [],
   "source": [
    "submit(answ, part=\"b\", day=1, year=2021)"
   ]
  }
 ],
 "metadata": {
  "kernelspec": {
   "display_name": "Python [conda env:aoc]",
   "language": "python",
   "name": "conda-env-aoc-py"
  },
  "language_info": {
   "codemirror_mode": {
    "name": "ipython",
    "version": 3
   },
   "file_extension": ".py",
   "mimetype": "text/x-python",
   "name": "python",
   "nbconvert_exporter": "python",
   "pygments_lexer": "ipython3",
   "version": "3.8.5"
  }
 },
 "nbformat": 4,
 "nbformat_minor": 2
}
