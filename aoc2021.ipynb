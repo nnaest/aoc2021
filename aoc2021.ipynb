{
 "cells": [
  {
   "cell_type": "markdown",
   "metadata": {},
   "source": [
    "# AOC 2021\n",
    "\n",
    "Welcome to the Advent of Code 2021 !"
   ]
  },
  {
   "cell_type": "markdown",
   "metadata": {},
   "source": [
    "## Basic configuration\n",
    "\n"
   ]
  },
  {
   "cell_type": "code",
   "execution_count": null,
   "metadata": {},
   "outputs": [],
   "source": [
    "# help for aocd : https://pypi.org/project/advent-of-code-data/\n",
    "\n",
    "#!pip install aocd"
   ]
  },
  {
   "cell_type": "code",
   "execution_count": 3,
   "metadata": {},
   "outputs": [],
   "source": [
    "import os\n",
    "\n",
    "# replace by your login session cookie\n",
    "os.environ[\n",
    "    \"AOC_SESSION\"\n",
    "] = \" \"  # your login session cookie"
   ]
  },
  {
   "cell_type": "code",
   "execution_count": 4,
   "metadata": {},
   "outputs": [],
   "source": [
    "from aocd import submit\n",
    "from aocd.models import Puzzle"
   ]
  },
  {
   "cell_type": "code",
   "execution_count": 5,
   "metadata": {},
   "outputs": [],
   "source": [
    "import numpy as np\n",
    "from tqdm import tqdm\n",
    "import json\n",
    "import typing as tp\n",
    "from collections import Counter, defaultdict, deque\n",
    "import math\n",
    "from itertools import product\n",
    "import re\n",
    "import string\n",
    "import matplotlib.pyplot as plt"
   ]
  },
  {
   "cell_type": "markdown",
   "metadata": {},
   "source": [
    "## Day 24\n",
    "https://adventofcode.com/2021/day/24\n",
    "### Prepare input"
   ]
  },
  {
   "cell_type": "code",
   "execution_count": null,
   "metadata": {},
   "outputs": [],
   "source": [
    "puzzle = Puzzle(year=2021, day=24)"
   ]
  },
  {
   "cell_type": "markdown",
   "metadata": {},
   "source": [
    "### Part 1"
   ]
  },
  {
   "cell_type": "markdown",
   "metadata": {},
   "source": [
    "### Part 2"
   ]
  },
  {
   "cell_type": "markdown",
   "metadata": {},
   "source": [
    "## Day 23\n",
    "https://adventofcode.com/2021/day/23\n",
    "### Prepare input"
   ]
  },
  {
   "cell_type": "code",
   "execution_count": null,
   "metadata": {},
   "outputs": [],
   "source": [
    "puzzle = Puzzle(year=2021, day=23)"
   ]
  },
  {
   "cell_type": "markdown",
   "metadata": {},
   "source": [
    "### Part 1"
   ]
  },
  {
   "cell_type": "markdown",
   "metadata": {},
   "source": [
    "### Part 2"
   ]
  },
  {
   "cell_type": "markdown",
   "metadata": {},
   "source": [
    "## Day 22\n",
    "https://adventofcode.com/2021/day/22\n",
    "### Prepare input "
   ]
  },
  {
   "cell_type": "code",
   "execution_count": null,
   "metadata": {},
   "outputs": [],
   "source": [
    "puzzle = Puzzle(year=2021, day=22)"
   ]
  },
  {
   "cell_type": "markdown",
   "metadata": {},
   "source": [
    "### Part 1"
   ]
  },
  {
   "cell_type": "markdown",
   "metadata": {},
   "source": [
    "### Part 2"
   ]
  },
  {
   "cell_type": "markdown",
   "metadata": {},
   "source": [
    "## Day 21\n",
    "https://adventofcode.com/2021/day/21\n",
    "### Prepare input "
   ]
  },
  {
   "cell_type": "code",
   "execution_count": null,
   "metadata": {},
   "outputs": [],
   "source": [
    "puzzle = Puzzle(year=2021, day=21)"
   ]
  },
  {
   "cell_type": "markdown",
   "metadata": {},
   "source": [
    "### Part 1"
   ]
  },
  {
   "cell_type": "markdown",
   "metadata": {},
   "source": [
    "### Part 2"
   ]
  },
  {
   "cell_type": "markdown",
   "metadata": {},
   "source": [
    "## Day 20\n",
    "https://adventofcode.com/2021/day/20\n",
    "### Prepare input "
   ]
  },
  {
   "cell_type": "code",
   "execution_count": null,
   "metadata": {},
   "outputs": [],
   "source": [
    "puzzle = Puzzle(year=2021, day=20)\n",
    "algorithm, content = puzzle.input_data.split(\"\\n\\n\")"
   ]
  },
  {
   "cell_type": "code",
   "execution_count": null,
   "metadata": {},
   "outputs": [],
   "source": [
    "content = content.split(\"\\n\")"
   ]
  },
  {
   "cell_type": "code",
   "execution_count": null,
   "metadata": {},
   "outputs": [],
   "source": [
    "def set_image(content: str) -> defaultdict:\n",
    "    image = defaultdict(lambda: 0)\n",
    "\n",
    "    for y, line in enumerate(content):\n",
    "        for x, char in enumerate(line):\n",
    "            image[(y, x)] = 1 if char == \"#\" else 0\n",
    "    return image"
   ]
  },
  {
   "cell_type": "markdown",
   "metadata": {},
   "source": [
    "\n",
    "### Part 1"
   ]
  },
  {
   "cell_type": "code",
   "execution_count": null,
   "metadata": {},
   "outputs": [],
   "source": [
    "Coord = tp.Tuple[int, int]"
   ]
  },
  {
   "cell_type": "code",
   "execution_count": null,
   "metadata": {},
   "outputs": [],
   "source": [
    "def get_adjacents(coord: Coord) -> tp.List[Coord]:\n",
    "    return [(coord[0] + dy, coord[1] + dx) for dy, dx in product([-1, 0, 1], repeat=2)]"
   ]
  },
  {
   "cell_type": "code",
   "execution_count": null,
   "metadata": {},
   "outputs": [],
   "source": [
    "get_adjacents((0, 0))  # je me fatigue"
   ]
  },
  {
   "cell_type": "code",
   "execution_count": null,
   "metadata": {},
   "outputs": [],
   "source": [
    "def get_value(image: defaultdict, coord: Coord) -> int:\n",
    "    window = get_adjacents(coord)\n",
    "\n",
    "    binary = \"\".join([str(image[coord]) for coord in window])\n",
    "    return int(binary, 2)"
   ]
  },
  {
   "cell_type": "code",
   "execution_count": null,
   "metadata": {},
   "outputs": [],
   "source": [
    "def enhance(image: defaultdict, default: int) -> defaultdict:\n",
    "\n",
    "    new_image = defaultdict(lambda: default)\n",
    "\n",
    "    ymin = min(image.keys(), key=lambda coord: coord[0])[0]\n",
    "    ymax = max(image.keys(), key=lambda coord: coord[0])[0]\n",
    "\n",
    "    xmin = min(image.keys(), key=lambda coord: coord[1])[1]\n",
    "    xmax = max(image.keys(), key=lambda coord: coord[1])[1]\n",
    "\n",
    "    for y in range(ymin - 1, ymax + 2):\n",
    "        for x in range(xmin - 1, xmax + 2):\n",
    "            coord = (y, x)\n",
    "            value = get_value(image, coord)\n",
    "            new_image[coord] = 1 if algorithm[value] == \"#\" else 0\n",
    "\n",
    "    return new_image"
   ]
  },
  {
   "cell_type": "code",
   "execution_count": null,
   "metadata": {},
   "outputs": [],
   "source": [
    "image = set_image(content)"
   ]
  },
  {
   "cell_type": "code",
   "execution_count": null,
   "metadata": {},
   "outputs": [],
   "source": [
    "for idx in range(2):\n",
    "    if algorithm[0] == \"#\" and algorithm[-1] == \".\":\n",
    "        default = (idx + 1) % 2\n",
    "    elif algorithm[0] == \"#\" and algorithm[-1] == \"#\":\n",
    "        default = 1\n",
    "    else:\n",
    "        default = 0\n",
    "\n",
    "    image = enhance(image, default)"
   ]
  },
  {
   "cell_type": "code",
   "execution_count": null,
   "metadata": {},
   "outputs": [],
   "source": [
    "count = Counter(image.values())"
   ]
  },
  {
   "cell_type": "code",
   "execution_count": null,
   "metadata": {},
   "outputs": [],
   "source": [
    "count[1]"
   ]
  },
  {
   "cell_type": "code",
   "execution_count": null,
   "metadata": {},
   "outputs": [],
   "source": [
    "puzzle.answer_a = count[1]"
   ]
  },
  {
   "cell_type": "markdown",
   "metadata": {},
   "source": [
    "### Part 2"
   ]
  },
  {
   "cell_type": "code",
   "execution_count": null,
   "metadata": {},
   "outputs": [],
   "source": [
    "image = set_image(content)\n",
    "\n",
    "for idx in range(50):\n",
    "    if algorithm[0] == \"#\" and algorithm[-1] == \".\":\n",
    "        default = (idx + 1) % 2\n",
    "    elif algorithm[0] == \"#\" and algorithm[-1] == \"#\":\n",
    "        default = 1\n",
    "    else:\n",
    "        default = 0\n",
    "\n",
    "    image = enhance(image, default)"
   ]
  },
  {
   "cell_type": "code",
   "execution_count": null,
   "metadata": {},
   "outputs": [],
   "source": [
    "count = Counter(image.values())\n",
    "count[1]"
   ]
  },
  {
   "cell_type": "code",
   "execution_count": null,
   "metadata": {},
   "outputs": [],
   "source": [
    "puzzle.answer_b = count[1]"
   ]
  },
  {
   "cell_type": "markdown",
   "metadata": {},
   "source": [
    "## Day 19\n",
    "https://adventofcode.com/2021/day/19\n",
    "### Prepare input"
   ]
  },
  {
   "cell_type": "code",
   "execution_count": null,
   "metadata": {},
   "outputs": [],
   "source": [
    "puzzle = Puzzle(year=2021, day=19)\n",
    "content = puzzle.input_data.split(\"\\n\\n\")"
   ]
  },
  {
   "cell_type": "code",
   "execution_count": null,
   "metadata": {},
   "outputs": [],
   "source": [
    "content = [line.split(\"\\n\") for line in content]"
   ]
  },
  {
   "cell_type": "markdown",
   "metadata": {},
   "source": [
    "### Part 1"
   ]
  },
  {
   "cell_type": "code",
   "execution_count": null,
   "metadata": {},
   "outputs": [],
   "source": [
    "from scipy.spatial.transform import Rotation as R\n",
    "\n",
    "euler_matrices = [\n",
    "    [\n",
    "        R.from_euler(axis, degree, degrees=True).as_matrix().astype(int)\n",
    "        for degree in {0, 90, 180, 270}\n",
    "    ]\n",
    "    for axis in {\"x\", \"y\", \"z\"}\n",
    "]\n",
    "\n",
    "ROT_MATRICES = []\n",
    "for rx in euler_matrices[0]:\n",
    "    for ry in euler_matrices[1]:\n",
    "        for rz in euler_matrices[2]:\n",
    "            rot = np.matmul(np.matmul(rz, ry), rx)\n",
    "            if not any(np.all(rot == mat) for mat in ROT_MATRICES):\n",
    "                ROT_MATRICES.append(rot)"
   ]
  },
  {
   "cell_type": "code",
   "execution_count": null,
   "metadata": {},
   "outputs": [],
   "source": [
    "def convert_to_set(array: np.array) -> tp.Set:\n",
    "    return set(tuple(coord) for coord in array)"
   ]
  },
  {
   "cell_type": "code",
   "execution_count": null,
   "metadata": {},
   "outputs": [],
   "source": [
    "class Scanner:\n",
    "    def __init__(self, in_scanner: str) -> None:\n",
    "        self.index = int(re.findall(\"-?\\d+\", in_scanner[0])[0])\n",
    "        self.beacons = self.get_beacons(in_scanner[1:])\n",
    "        self.rotations = self.get_all_rotations() if self.index != 0 else None\n",
    "        self.coords = None\n",
    "\n",
    "    @staticmethod\n",
    "    def get_beacons(in_beacons: str) -> np.array:\n",
    "        coords = []\n",
    "        for coord in in_beacons:\n",
    "            coords.append(list(map(int, coord.split(\",\"))))\n",
    "        return np.array(coords)\n",
    "\n",
    "    def get_all_rotations(self) -> tp.List[np.array]:\n",
    "        return [self.beacons.dot(rot) for rot in ROT_MATRICES]\n",
    "\n",
    "    def set_coords(self, coords: tp.Tuple[int, int, int]) -> None:\n",
    "        self.coords = coords\n",
    "\n",
    "    @staticmethod\n",
    "    def find_distance(beacons: np.array, reference: np.array) -> tp.Optional[np.array]:\n",
    "        ref_coords = convert_to_set(reference)\n",
    "        for beacon in beacons:\n",
    "            for ref_beacon in reference:\n",
    "                diff = beacon - ref_beacon\n",
    "                new_coords = convert_to_set(beacons - diff)\n",
    "\n",
    "                if len(new_coords & ref_coords) >= 12:\n",
    "                    return diff\n",
    "\n",
    "    def get_relative_position(\n",
    "        self, reference: np.array\n",
    "    ) -> tp.Optional[tp.Tuple[np.array, np.array]]:\n",
    "        for rotation in self.rotations:\n",
    "            rel_pos = self.find_distance(rotation, reference)\n",
    "            if rel_pos is not None:\n",
    "                return rotation - rel_pos, rel_pos\n",
    "        return None, None"
   ]
  },
  {
   "cell_type": "code",
   "execution_count": null,
   "metadata": {},
   "outputs": [],
   "source": [
    "scanners = [Scanner(line) for line in content]"
   ]
  },
  {
   "cell_type": "markdown",
   "metadata": {},
   "source": [
    "### Part 1"
   ]
  },
  {
   "cell_type": "code",
   "execution_count": null,
   "metadata": {
    "scrolled": true
   },
   "outputs": [],
   "source": [
    "ref_scanner = scanners[0]\n",
    "\n",
    "seen = {ref_scanner.index}\n",
    "ref_scanner.set_coords((0, 0, 0))\n",
    "\n",
    "reference = ref_scanner.beacons\n",
    "while len(seen) != len(scanners):\n",
    "\n",
    "    for scanner in scanners:\n",
    "        if scanner.index in seen:\n",
    "            continue\n",
    "        match, relative_pos = scanner.get_relative_position(reference)\n",
    "        if match is not None:\n",
    "            print(f\"Matched scanner {scanner.index}\")\n",
    "            scanner.set_coords(relative_pos)\n",
    "            seen.add(scanner.index)\n",
    "\n",
    "            combine = list(convert_to_set(reference) | convert_to_set(match))\n",
    "            reference = np.array(combine)\n",
    "            break"
   ]
  },
  {
   "cell_type": "code",
   "execution_count": null,
   "metadata": {},
   "outputs": [],
   "source": [
    "answ = len(reference)\n",
    "answ"
   ]
  },
  {
   "cell_type": "code",
   "execution_count": null,
   "metadata": {},
   "outputs": [],
   "source": [
    "puzzle.answer_a = answ"
   ]
  },
  {
   "cell_type": "markdown",
   "metadata": {},
   "source": [
    "### Part 2"
   ]
  },
  {
   "cell_type": "markdown",
   "metadata": {},
   "source": [
    "manhattan_dist = the sum of the absolute differences of the Cartesian coordinates\n"
   ]
  },
  {
   "cell_type": "code",
   "execution_count": null,
   "metadata": {},
   "outputs": [],
   "source": [
    "man_dist = [\n",
    "    np.sum(np.abs(np.array(scanner1.coords) - np.array(scanner2.coords)))\n",
    "    for scanner1 in scanners\n",
    "    for scanner2 in scanners\n",
    "]\n",
    "\n",
    "answ = max(man_dist)\n",
    "answ"
   ]
  },
  {
   "cell_type": "code",
   "execution_count": null,
   "metadata": {},
   "outputs": [],
   "source": [
    "puzzle.answer_b = answ"
   ]
  },
  {
   "cell_type": "markdown",
   "metadata": {},
   "source": [
    "## Day 18\n",
    "https://adventofcode.com/2021/day/18\n",
    "### Prepare input "
   ]
  },
  {
   "cell_type": "code",
   "execution_count": null,
   "metadata": {
    "scrolled": true
   },
   "outputs": [],
   "source": [
    "puzzle = Puzzle(year=2021, day=18)\n",
    "content = [json.loads(line) for line in puzzle.input_data.split(\"\\n\")]"
   ]
  },
  {
   "cell_type": "markdown",
   "metadata": {},
   "source": [
    "### Part 1"
   ]
  },
  {
   "cell_type": "code",
   "execution_count": null,
   "metadata": {},
   "outputs": [],
   "source": [
    "SnailNumber = tp.List[tp.Union[int, tp.List]]\n",
    "Transformed = tp.List[tp.Tuple[int, int]]\n",
    "\n",
    "\n",
    "def transform(number: SnailNumber, depth: int = 1) -> Transformed:\n",
    "    left, right = number\n",
    "    left = [(left, depth)] if isinstance(left, int) else transform(left, depth + 1)\n",
    "    right = [(right, depth)] if isinstance(right, int) else transform(right, depth + 1)\n",
    "    return left + right"
   ]
  },
  {
   "cell_type": "code",
   "execution_count": null,
   "metadata": {},
   "outputs": [],
   "source": [
    "def undo_transform(snail_nb: Transformed) -> SnailNumber:\n",
    "    while len(snail_nb) > 1:\n",
    "        for idx, (cur_pair, next_pair) in enumerate(zip(snail_nb[:-1], snail_nb[1:])):\n",
    "            cur_value, cur_depth = cur_pair\n",
    "            next_value, next_depth = next_pair\n",
    "            if cur_depth == next_depth:\n",
    "                snail_nb = (\n",
    "                    snail_nb[:idx]\n",
    "                    + [([cur_value, next_value], cur_depth - 1)]\n",
    "                    + snail_nb[idx + 2 :]\n",
    "                )\n",
    "\n",
    "                break\n",
    "\n",
    "    return snail_nb[0][0]"
   ]
  },
  {
   "cell_type": "markdown",
   "metadata": {},
   "source": [
    "-----------------"
   ]
  },
  {
   "cell_type": "code",
   "execution_count": null,
   "metadata": {},
   "outputs": [],
   "source": [
    "def explode_number(snail_nb: Transformed) -> tp.Optional[Transformed]:\n",
    "    for idx, pair in enumerate(snail_nb):\n",
    "        value, depth = pair\n",
    "        if depth == 5:\n",
    "            if idx > 0:  # check left\n",
    "                snail_nb[idx - 1] = (snail_nb[idx - 1][0] + value, snail_nb[idx - 1][1])\n",
    "            if idx < len(snail_nb) - 2:  # check right\n",
    "                snail_nb[idx + 2] = (\n",
    "                    snail_nb[idx + 1][0] + snail_nb[idx + 2][0],\n",
    "                    snail_nb[idx + 2][1],\n",
    "                )\n",
    "\n",
    "            snail_nb[idx : idx + 2] = [(0, depth - 1)]\n",
    "            return snail_nb"
   ]
  },
  {
   "cell_type": "code",
   "execution_count": null,
   "metadata": {},
   "outputs": [],
   "source": [
    "def split_number(snail_nb: Transformed) -> tp.Optional[Transformed]:\n",
    "    for idx, pair in enumerate(snail_nb):\n",
    "        value, depth = pair\n",
    "        if value >= 10:\n",
    "            snail_nb[idx : idx + 1] = [\n",
    "                (value // 2, depth + 1),\n",
    "                (math.ceil(value / 2), depth + 1),\n",
    "            ]\n",
    "            return snail_nb"
   ]
  },
  {
   "cell_type": "code",
   "execution_count": null,
   "metadata": {},
   "outputs": [],
   "source": [
    "def add_numbers(number: SnailNumber, to_add: SnailNumber) -> Transformed:\n",
    "    return transform([number, to_add])"
   ]
  },
  {
   "cell_type": "code",
   "execution_count": null,
   "metadata": {},
   "outputs": [],
   "source": [
    "def reduce(number: Transformed) -> SnailNumber:\n",
    "\n",
    "    while True:\n",
    "\n",
    "        exploded = explode_number(number)\n",
    "\n",
    "        if exploded is not None:\n",
    "            number = exploded\n",
    "            continue\n",
    "\n",
    "        splitted = split_number(number)\n",
    "        if splitted is not None:\n",
    "            number = splitted\n",
    "            continue\n",
    "\n",
    "        return undo_transform(number)"
   ]
  },
  {
   "cell_type": "code",
   "execution_count": null,
   "metadata": {},
   "outputs": [],
   "source": [
    "def add_all_numbers(content: tp.List[SnailNumber]) -> SnailNumber:\n",
    "    snail_number = content[0]\n",
    "    for line in content[1:]:\n",
    "        snail_number = add_numbers(snail_number, line)\n",
    "        snail_number = reduce(snail_number)\n",
    "    return snail_number"
   ]
  },
  {
   "cell_type": "code",
   "execution_count": null,
   "metadata": {},
   "outputs": [],
   "source": [
    "final_number = add_all_numbers(content)"
   ]
  },
  {
   "cell_type": "code",
   "execution_count": null,
   "metadata": {},
   "outputs": [],
   "source": [
    "def magnitude(snail_nb: SnailNumber) -> int:\n",
    "    if isinstance(snail_nb, int):\n",
    "        return snail_nb\n",
    "    return 3 * magnitude(snail_nb[0]) + 2 * magnitude(snail_nb[1])"
   ]
  },
  {
   "cell_type": "code",
   "execution_count": null,
   "metadata": {},
   "outputs": [],
   "source": [
    "magn = magnitude(final_number)\n",
    "magn"
   ]
  },
  {
   "cell_type": "code",
   "execution_count": null,
   "metadata": {},
   "outputs": [],
   "source": [
    "puzzle.answer_a = magn"
   ]
  },
  {
   "cell_type": "markdown",
   "metadata": {},
   "source": [
    "\n",
    "### Part 2"
   ]
  },
  {
   "cell_type": "code",
   "execution_count": null,
   "metadata": {},
   "outputs": [],
   "source": [
    "def get_pairs(snail_nb: SnailNumber) -> tp.List[tp.List[SnailNumber]]:\n",
    "    return [[sn1, sn2] for sn1 in snail_nb for sn2 in snail_nb if sn1 != sn2]"
   ]
  },
  {
   "cell_type": "code",
   "execution_count": null,
   "metadata": {},
   "outputs": [],
   "source": [
    "pairs = get_pairs(content)"
   ]
  },
  {
   "cell_type": "code",
   "execution_count": null,
   "metadata": {},
   "outputs": [],
   "source": [
    "magnitudes = [magnitude(add_all_numbers(pair)) for pair in pairs]"
   ]
  },
  {
   "cell_type": "code",
   "execution_count": null,
   "metadata": {},
   "outputs": [],
   "source": [
    "answ = max(magnitudes)\n",
    "answ"
   ]
  },
  {
   "cell_type": "code",
   "execution_count": null,
   "metadata": {},
   "outputs": [],
   "source": [
    "puzzle.answer_b = answ"
   ]
  },
  {
   "cell_type": "markdown",
   "metadata": {},
   "source": [
    "## Day 17\n",
    "https://adventofcode.com/2021/day/17\n",
    "### Prepare input"
   ]
  },
  {
   "cell_type": "code",
   "execution_count": null,
   "metadata": {},
   "outputs": [],
   "source": [
    "puzzle = Puzzle(year=2021, day=17)\n",
    "content = puzzle.input_data\n",
    "content"
   ]
  },
  {
   "cell_type": "code",
   "execution_count": null,
   "metadata": {},
   "outputs": [],
   "source": [
    "tar_x1, tar_x2, tar_y1, tar_y2 = map(int, re.findall(\"-?\\d+\", content))"
   ]
  },
  {
   "cell_type": "markdown",
   "metadata": {},
   "source": [
    "### Part 1"
   ]
  },
  {
   "cell_type": "code",
   "execution_count": null,
   "metadata": {},
   "outputs": [],
   "source": [
    "answ = tar_y1 * (tar_y1 + 1) // 2\n",
    "answ"
   ]
  },
  {
   "cell_type": "code",
   "execution_count": null,
   "metadata": {},
   "outputs": [],
   "source": [
    "puzzle.answer_a = answ"
   ]
  },
  {
   "cell_type": "markdown",
   "metadata": {},
   "source": [
    "### Part 2"
   ]
  },
  {
   "cell_type": "code",
   "execution_count": null,
   "metadata": {},
   "outputs": [],
   "source": [
    "def one_step(pos_x: int, pos_y: int, vx: int, vy: int) -> int:\n",
    "    if pos_x > tar_x2 or pos_y < tar_y1:\n",
    "        return 0\n",
    "\n",
    "    if tar_x1 <= pos_x <= tar_x2 and tar_y1 <= pos_y <= tar_y2:\n",
    "        return 1\n",
    "\n",
    "    pos_x += vx\n",
    "    pos_y += vy\n",
    "    vx -= int(vx > 0)\n",
    "    vy -= 1\n",
    "\n",
    "    return one_step(pos_x, pos_y, vx, vy)"
   ]
  },
  {
   "cell_type": "code",
   "execution_count": null,
   "metadata": {},
   "outputs": [],
   "source": [
    "n_hits = 0\n",
    "for vx in range(0, tar_x2 + 1):\n",
    "    for vy in range(tar_y1, -tar_y1):\n",
    "        n_hits += one_step(0, 0, vx, vy)\n",
    "n_hits"
   ]
  },
  {
   "cell_type": "code",
   "execution_count": null,
   "metadata": {},
   "outputs": [],
   "source": [
    "puzzle.answer_b = n_hits"
   ]
  },
  {
   "cell_type": "markdown",
   "metadata": {},
   "source": [
    "## Day 16\n",
    "https://adventofcode.com/2021/day/16\n",
    "### Prepare input"
   ]
  },
  {
   "cell_type": "code",
   "execution_count": null,
   "metadata": {},
   "outputs": [],
   "source": [
    "puzzle = Puzzle(year=2021, day=16)\n",
    "content = puzzle.input_data"
   ]
  },
  {
   "cell_type": "markdown",
   "metadata": {},
   "source": [
    "### Part 1"
   ]
  },
  {
   "cell_type": "code",
   "execution_count": null,
   "metadata": {},
   "outputs": [],
   "source": [
    "def hex2bin(hexa: str) -> str:\n",
    "    return bin(int(hexa, 16))[2:].zfill(len(hexa) * 4)"
   ]
  },
  {
   "cell_type": "code",
   "execution_count": null,
   "metadata": {},
   "outputs": [],
   "source": [
    "def get_version_type(stream: str) -> tp.Tuple[int, int, str]:\n",
    "    return int(stream[:3], 2), int(stream[3:6], 2), stream[6:]"
   ]
  },
  {
   "cell_type": "code",
   "execution_count": null,
   "metadata": {},
   "outputs": [],
   "source": [
    "def get_type4_packet(stream: str) -> tp.Tuple[str, int]:\n",
    "    packet = \"\"\n",
    "    for cur_id in range(0, len(stream), 5):\n",
    "        packet += stream[cur_id + 1 : cur_id + 5]\n",
    "        if stream[cur_id] == \"0\":\n",
    "            return int(packet, 2), stream[cur_id + 5 :]"
   ]
  },
  {
   "cell_type": "code",
   "execution_count": null,
   "metadata": {},
   "outputs": [],
   "source": [
    "def get_len_typeid(stream: str) -> tp.Tuple[str, str]:\n",
    "    return int(stream[0], 2), stream[1:]"
   ]
  },
  {
   "cell_type": "code",
   "execution_count": null,
   "metadata": {},
   "outputs": [],
   "source": [
    "def parse_packet(bin_packet: str) -> tp.Tuple[tp.List[int], str]:\n",
    "\n",
    "    version, type_id, bin_packet = get_version_type(bin_packet)\n",
    "\n",
    "    versions = [version]\n",
    "\n",
    "    if type_id == 4:\n",
    "        packet_value, bin_packet = get_type4_packet(bin_packet)\n",
    "\n",
    "    else:\n",
    "        length_type_id, bin_packet = get_len_typeid(bin_packet)\n",
    "\n",
    "        if length_type_id == 0:\n",
    "            len_subs = int(bin_packet[:15], 2)\n",
    "            bin_packet = bin_packet[15:]\n",
    "\n",
    "            sub_packet = bin_packet[:len_subs]\n",
    "            while sub_packet:\n",
    "                subversions, sub_packet = parse_packet(sub_packet)\n",
    "                versions.extend(subversions)\n",
    "\n",
    "            bin_packet = bin_packet[len_subs:]\n",
    "\n",
    "        else:\n",
    "            n_subs = int(bin_packet[:11], 2)\n",
    "            bin_packet = bin_packet[11:]\n",
    "\n",
    "            for idx in range(n_subs):\n",
    "                subversions, bin_packet = parse_packet(bin_packet)\n",
    "                versions.extend(subversions)\n",
    "\n",
    "    return versions, bin_packet"
   ]
  },
  {
   "cell_type": "code",
   "execution_count": null,
   "metadata": {},
   "outputs": [],
   "source": [
    "binary = hex2bin(content)"
   ]
  },
  {
   "cell_type": "code",
   "execution_count": null,
   "metadata": {},
   "outputs": [],
   "source": [
    "versions, _ = parse_packet(binary)"
   ]
  },
  {
   "cell_type": "code",
   "execution_count": null,
   "metadata": {},
   "outputs": [],
   "source": [
    "answ = sum(versions)\n",
    "answ"
   ]
  },
  {
   "cell_type": "code",
   "execution_count": null,
   "metadata": {},
   "outputs": [],
   "source": [
    "puzzle.answer_a = answ"
   ]
  },
  {
   "cell_type": "markdown",
   "metadata": {},
   "source": [
    "### Part 2"
   ]
  },
  {
   "cell_type": "code",
   "execution_count": null,
   "metadata": {},
   "outputs": [],
   "source": [
    "def operation(type_id: int, values: tp.Sequence[int]) -> int:\n",
    "    if type_id == 0:\n",
    "        return np.sum(values)\n",
    "    if type_id == 1:\n",
    "        return np.prod(values)\n",
    "    if type_id == 2:\n",
    "        return np.min(values)\n",
    "    if type_id == 3:\n",
    "        return np.max(values)\n",
    "    if type_id == 5:\n",
    "        return int(values[0] > values[1])\n",
    "    if type_id == 6:\n",
    "        return int(values[0] < values[1])\n",
    "    if type_id == 7:\n",
    "        return int(values[0] == values[1])"
   ]
  },
  {
   "cell_type": "code",
   "execution_count": null,
   "metadata": {},
   "outputs": [],
   "source": [
    "def parse_packet_2(bin_packet: str) -> tp.Tuple[int, str]:\n",
    "\n",
    "    version, type_id, bin_packet = get_version_type(bin_packet)\n",
    "\n",
    "    values = []\n",
    "\n",
    "    if type_id == 4:\n",
    "        packet_value, bin_packet = get_type4_packet(bin_packet)\n",
    "        return packet_value, bin_packet\n",
    "\n",
    "    else:\n",
    "        length_type_id, bin_packet = get_len_typeid(bin_packet)\n",
    "\n",
    "        if length_type_id == 0:\n",
    "            len_subs = int(bin_packet[:15], 2)\n",
    "            bin_packet = bin_packet[15:]\n",
    "\n",
    "            sub_packet = bin_packet[:len_subs]\n",
    "            while sub_packet:\n",
    "                sub_value, sub_packet = parse_packet_2(sub_packet)\n",
    "                values.append(sub_value)\n",
    "\n",
    "            bin_packet = bin_packet[len_subs:]\n",
    "\n",
    "        else:\n",
    "            n_subs = int(bin_packet[:11], 2)\n",
    "            bin_packet = bin_packet[11:]\n",
    "\n",
    "            for idx in range(n_subs):\n",
    "                sub_value, bin_packet = parse_packet_2(bin_packet)\n",
    "                values.append(sub_value)\n",
    "\n",
    "        return operation(type_id, values), bin_packet"
   ]
  },
  {
   "cell_type": "code",
   "execution_count": null,
   "metadata": {},
   "outputs": [],
   "source": [
    "value, _ = parse_packet_2(binary)\n",
    "value"
   ]
  },
  {
   "cell_type": "code",
   "execution_count": null,
   "metadata": {},
   "outputs": [],
   "source": [
    "puzzle.answer_b = value"
   ]
  },
  {
   "cell_type": "markdown",
   "metadata": {},
   "source": [
    "## Day 15\n",
    "https://adventofcode.com/2021/day/15\n",
    "### Prepare input"
   ]
  },
  {
   "cell_type": "code",
   "execution_count": null,
   "metadata": {},
   "outputs": [],
   "source": [
    "puzzle = Puzzle(year=2021, day=15)\n",
    "content = puzzle.input_data.split(\"\\n\")"
   ]
  },
  {
   "cell_type": "code",
   "execution_count": null,
   "metadata": {},
   "outputs": [],
   "source": [
    "def get_adjacents(idx: int, jdx: int) -> tp.List[tp.Tuple[int, int]]:\n",
    "\n",
    "    return [(idx - 1, jdx), (idx + 1, jdx), (idx, jdx - 1), (idx, jdx + 1)]"
   ]
  },
  {
   "cell_type": "code",
   "execution_count": null,
   "metadata": {
    "scrolled": true
   },
   "outputs": [],
   "source": [
    "graph = defaultdict(lambda: defaultdict(lambda: 10))\n",
    "\n",
    "for y, line in enumerate(content):\n",
    "    for x, pt in enumerate(line):\n",
    "        neighbours = get_adjacents(x, y)\n",
    "        for n in neighbours:\n",
    "            if 0 <= n[0] < len(content[0]) and 0 <= n[1] < len(content):\n",
    "                graph[(x, y)][n] = int(content[n[1]][n[0]])"
   ]
  },
  {
   "cell_type": "markdown",
   "metadata": {},
   "source": [
    "### Part 1"
   ]
  },
  {
   "cell_type": "code",
   "execution_count": null,
   "metadata": {},
   "outputs": [],
   "source": [
    "def dijkstra(graph, start: tp.Tuple[int, int], end):\n",
    "    unseen_nodes = set(graph.keys())\n",
    "\n",
    "    shortest_path = defaultdict(list)\n",
    "    cur_path_risk = defaultdict(lambda: 1000)\n",
    "    cur_path_risk[start] = 0\n",
    "\n",
    "    min_node = start\n",
    "    while unseen_nodes:\n",
    "        min_node = None\n",
    "        for node in unseen_nodes:\n",
    "            if min_node is None:\n",
    "                min_node = node\n",
    "            elif cur_path_risk[node] < cur_path_risk[min_node]:\n",
    "                min_node = node\n",
    "\n",
    "        if min_node is None:\n",
    "            return cur_path_risk, shortest_path\n",
    "\n",
    "        unseen_nodes.remove(min_node)\n",
    "        cur_risk = cur_path_risk[min_node]\n",
    "\n",
    "        for neighbour, risk in graph[min_node].items():\n",
    "            total_risk = cur_risk + risk\n",
    "\n",
    "            if (\n",
    "                neighbour not in cur_path_risk.keys()\n",
    "                or total_risk < cur_path_risk[neighbour]\n",
    "            ):\n",
    "                cur_path_risk[neighbour] = total_risk\n",
    "                shortest_path[neighbour].append(min_node)\n",
    "                if neighbour == end:\n",
    "                    return cur_path_risk, shortest_path"
   ]
  },
  {
   "cell_type": "code",
   "execution_count": null,
   "metadata": {},
   "outputs": [],
   "source": [
    "h = len(content)\n",
    "w = len(content[0])\n",
    "\n",
    "total_risks, shortest = dijkstra(graph, (0, 0), (w - 1, h - 1))"
   ]
  },
  {
   "cell_type": "code",
   "execution_count": null,
   "metadata": {},
   "outputs": [],
   "source": [
    "total_risks[(w - 1, h - 1)]"
   ]
  },
  {
   "cell_type": "markdown",
   "metadata": {},
   "source": [
    "### Part 2"
   ]
  },
  {
   "cell_type": "code",
   "execution_count": null,
   "metadata": {},
   "outputs": [],
   "source": [
    "small = np.array([[int(c) for c in line] for line in content])"
   ]
  },
  {
   "cell_type": "code",
   "execution_count": null,
   "metadata": {},
   "outputs": [],
   "source": [
    "big = [small]\n",
    "\n",
    "for _ in range(4):\n",
    "    big.append(big[-1] % 9 + 1)\n",
    "\n",
    "big = [np.concatenate(big, axis=1)]\n",
    "\n",
    "for _ in range(4):\n",
    "    big.append(big[-1] % 9 + 1)\n",
    "\n",
    "big = np.concatenate(big)"
   ]
  },
  {
   "cell_type": "code",
   "execution_count": null,
   "metadata": {},
   "outputs": [],
   "source": [
    "graph2 = defaultdict(lambda: defaultdict(lambda: 10))\n",
    "\n",
    "h, w = big.shape\n",
    "for y in range(h):\n",
    "    for x in range(w):\n",
    "        neighbours = get_adjacents(x, y)\n",
    "        for n in neighbours:\n",
    "            if 0 <= n[0] < w and 0 <= n[1] < h:\n",
    "                graph2[(x, y)][n] = big[y, x]"
   ]
  },
  {
   "cell_type": "code",
   "execution_count": null,
   "metadata": {},
   "outputs": [],
   "source": [
    "total_risks, shortest = dijkstra(graph2, (0, 0), (w - 1, h - 1))"
   ]
  },
  {
   "cell_type": "markdown",
   "metadata": {},
   "source": [
    "## Part 2 fortement inspiré chez Johan ^^'' "
   ]
  },
  {
   "cell_type": "code",
   "execution_count": null,
   "metadata": {},
   "outputs": [],
   "source": [
    "data = big\n",
    "distances = np.zeros(data.shape)\n",
    "distances[:, :] = 10 ** 20\n",
    "distances[0, 0] = 0\n",
    "visited = set()\n",
    "to_visit = {(0, 0)}\n",
    "lattice = set((x, y) for y in range(data.shape[0]) for x in range(data.shape[1]))"
   ]
  },
  {
   "cell_type": "code",
   "execution_count": null,
   "metadata": {},
   "outputs": [],
   "source": [
    "def evaluate(node):\n",
    "    x, y = node\n",
    "    for dx, dy in [(-1, 0), (0, 1), (1, 0), (0, -1)]:\n",
    "        neighbor = x + dx, y + dy\n",
    "        if neighbor in lattice:\n",
    "            distances[neighbor] = min(\n",
    "                distances[node] + data[neighbor], distances[neighbor]\n",
    "            )\n",
    "            if neighbor not in visited:\n",
    "                to_visit.add(neighbor)\n",
    "    visited.add(node)"
   ]
  },
  {
   "cell_type": "code",
   "execution_count": null,
   "metadata": {},
   "outputs": [],
   "source": [
    "while to_visit:\n",
    "    node = min([(x, y, distances[x, y]) for x, y in to_visit], key=lambda t: t[2])[:2]\n",
    "    evaluate(node)\n",
    "    to_visit = to_visit - visited"
   ]
  },
  {
   "cell_type": "code",
   "execution_count": null,
   "metadata": {},
   "outputs": [],
   "source": [
    "int(distances[-1, -1])"
   ]
  },
  {
   "cell_type": "code",
   "execution_count": null,
   "metadata": {},
   "outputs": [],
   "source": []
  },
  {
   "cell_type": "code",
   "execution_count": null,
   "metadata": {},
   "outputs": [],
   "source": []
  },
  {
   "cell_type": "code",
   "execution_count": null,
   "metadata": {},
   "outputs": [],
   "source": [
    "total_risks[(w - 1, h - 1)]"
   ]
  },
  {
   "cell_type": "markdown",
   "metadata": {},
   "source": [
    "## Day 14\n",
    "https://adventofcode.com/2021/day/14\n",
    "### Prepare input "
   ]
  },
  {
   "cell_type": "code",
   "execution_count": null,
   "metadata": {},
   "outputs": [],
   "source": [
    "puzzle = Puzzle(year=2021, day=14)\n",
    "template, content = puzzle.input_data.split(\"\\n\\n\")"
   ]
  },
  {
   "cell_type": "code",
   "execution_count": null,
   "metadata": {},
   "outputs": [],
   "source": [
    "rules = dict([x.split(\" -> \") for x in content.split(\"\\n\")])"
   ]
  },
  {
   "cell_type": "markdown",
   "metadata": {},
   "source": [
    "### Part 1"
   ]
  },
  {
   "cell_type": "code",
   "execution_count": null,
   "metadata": {},
   "outputs": [],
   "source": [
    "def step(in_str: str) -> str:\n",
    "    new_str = \"\"\n",
    "    for c1, c2 in zip(in_str[:-1], in_str[1:]):\n",
    "        pair = c1 + c2\n",
    "        insert = rules[pair]\n",
    "        new_str += c1 + insert\n",
    "    new_str += in_str[-1]\n",
    "    return new_str"
   ]
  },
  {
   "cell_type": "code",
   "execution_count": null,
   "metadata": {},
   "outputs": [],
   "source": [
    "def diff(count: Counter) -> int:\n",
    "    return count.most_common()[0][1] - count.most_common()[-1][1]"
   ]
  },
  {
   "cell_type": "code",
   "execution_count": null,
   "metadata": {},
   "outputs": [],
   "source": [
    "tmp = template\n",
    "for _ in range(10):\n",
    "    tmp = step(tmp)"
   ]
  },
  {
   "cell_type": "code",
   "execution_count": null,
   "metadata": {},
   "outputs": [],
   "source": [
    "count = Counter(tmp)\n",
    "answ = diff(count)\n",
    "answ"
   ]
  },
  {
   "cell_type": "code",
   "execution_count": null,
   "metadata": {},
   "outputs": [],
   "source": [
    "puzzle.answer_a = answ"
   ]
  },
  {
   "cell_type": "markdown",
   "metadata": {},
   "source": [
    "### Part 2"
   ]
  },
  {
   "cell_type": "code",
   "execution_count": null,
   "metadata": {},
   "outputs": [],
   "source": [
    "def smart_step(in_count: Counter) -> Counter:\n",
    "    new_count = Counter()\n",
    "    for pair, c in in_count.items():\n",
    "        insert = rules[pair]\n",
    "        new_count[pair[0] + insert] += c\n",
    "        new_count[insert + pair[1]] += c\n",
    "    return new_count"
   ]
  },
  {
   "cell_type": "code",
   "execution_count": null,
   "metadata": {},
   "outputs": [],
   "source": [
    "pairs = [c1 + c2 for c1, c2 in zip(template[:-1], template[1:])]\n",
    "count = Counter(pairs)\n",
    "\n",
    "for _ in range(40):\n",
    "    count = smart_step(count)"
   ]
  },
  {
   "cell_type": "code",
   "execution_count": null,
   "metadata": {},
   "outputs": [],
   "source": [
    "char_count = Counter()\n",
    "for pair, c in count.items():\n",
    "    outcount[pair[0]] += c\n",
    "    outcount[pair[1]] += c"
   ]
  },
  {
   "cell_type": "code",
   "execution_count": null,
   "metadata": {},
   "outputs": [],
   "source": [
    "answ = diff(char_count) // 2\n",
    "answ"
   ]
  },
  {
   "cell_type": "code",
   "execution_count": null,
   "metadata": {},
   "outputs": [],
   "source": [
    "puzzle.answer_b = answ"
   ]
  },
  {
   "cell_type": "markdown",
   "metadata": {},
   "source": [
    "## Day 13\n",
    "https://adventofcode.com/2021/day/13\n",
    "### Prepare input "
   ]
  },
  {
   "cell_type": "code",
   "execution_count": null,
   "metadata": {},
   "outputs": [],
   "source": [
    "puzzle = Puzzle(year=2021, day=13)\n",
    "dots, folds = puzzle.input_data.split(\"\\n\\n\")"
   ]
  },
  {
   "cell_type": "code",
   "execution_count": null,
   "metadata": {},
   "outputs": [],
   "source": [
    "dots = [[int(y) for y in x.split(\",\")] for x in dots.split(\"\\n\")]\n",
    "dots = set([tuple(d) for d in dots])"
   ]
  },
  {
   "cell_type": "code",
   "execution_count": null,
   "metadata": {},
   "outputs": [],
   "source": [
    "folds = [fold.split(\" \")[2].split(\"=\") for fold in folds.split(\"\\n\")]"
   ]
  },
  {
   "cell_type": "markdown",
   "metadata": {},
   "source": [
    "### Part 1"
   ]
  },
  {
   "cell_type": "code",
   "execution_count": null,
   "metadata": {},
   "outputs": [],
   "source": [
    "def fold_paper(dots, fold: tp.Sequence[str]):\n",
    "\n",
    "    fold_axis = 0 if fold[0] == \"x\" else 1\n",
    "    fold_value = int(fold[1])\n",
    "\n",
    "    new_dots = dots.copy()\n",
    "    for dot in dots:\n",
    "        if dot[fold_axis] > fold_value:\n",
    "            tmp_dot = list(dot)\n",
    "            tmp_dot[fold_axis] = 2 * fold_value - tmp_dot[fold_axis]\n",
    "            new_dots.remove(dot)\n",
    "            new_dots.add(tuple(tmp_dot))\n",
    "\n",
    "    return new_dots"
   ]
  },
  {
   "cell_type": "code",
   "execution_count": null,
   "metadata": {},
   "outputs": [],
   "source": [
    "new_dots = fold_paper(dots, folds[0])"
   ]
  },
  {
   "cell_type": "code",
   "execution_count": null,
   "metadata": {},
   "outputs": [],
   "source": [
    "answ = len(new_dots)\n",
    "answ"
   ]
  },
  {
   "cell_type": "code",
   "execution_count": null,
   "metadata": {},
   "outputs": [],
   "source": [
    "puzzle.answer_a = answ"
   ]
  },
  {
   "cell_type": "markdown",
   "metadata": {},
   "source": [
    "### Part 2"
   ]
  },
  {
   "cell_type": "code",
   "execution_count": null,
   "metadata": {},
   "outputs": [],
   "source": [
    "new_dots = dots.copy()\n",
    "for fold in folds:\n",
    "    new_dots = fold_paper(new_dots, fold)"
   ]
  },
  {
   "cell_type": "code",
   "execution_count": null,
   "metadata": {},
   "outputs": [],
   "source": [
    "paper_w = max(new_dots, key=lambda x: x[0])[0] + 1\n",
    "paper_h = max(new_dots, key=lambda x: x[1])[1] + 1\n",
    "\n",
    "paper = np.zeros((paper_w, paper_h))\n",
    "for x, y in new_dots:\n",
    "    paper[x, y] = 1"
   ]
  },
  {
   "cell_type": "code",
   "execution_count": null,
   "metadata": {},
   "outputs": [],
   "source": [
    "import matplotlib.pyplot as plt\n",
    "\n",
    "plt.imshow(paper.T)"
   ]
  },
  {
   "cell_type": "code",
   "execution_count": null,
   "metadata": {},
   "outputs": [],
   "source": [
    "puzzle.answer_b = \"EFJKZLBL\""
   ]
  },
  {
   "cell_type": "markdown",
   "metadata": {},
   "source": [
    "## Day 12\n",
    "https://adventofcode.com/2021/day/12\n",
    "### Prepare input "
   ]
  },
  {
   "cell_type": "code",
   "execution_count": null,
   "metadata": {},
   "outputs": [],
   "source": [
    "puzzle = Puzzle(year=2021, day=12)\n",
    "content = [x.split(\"-\") for x in puzzle.input_data.split(\"\\n\")]"
   ]
  },
  {
   "cell_type": "code",
   "execution_count": null,
   "metadata": {},
   "outputs": [],
   "source": [
    "graph = defaultdict(set)\n",
    "\n",
    "for n1, n2 in content:\n",
    "    graph[n1].add(n2)\n",
    "    graph[n2].add(n1)"
   ]
  },
  {
   "cell_type": "code",
   "execution_count": null,
   "metadata": {},
   "outputs": [],
   "source": [
    "big_caves = set([node for node in graph.keys() if str.lower(node) != node])\n",
    "small_caves = set(graph.keys()) - big_caves - {\"start\", \"end\"}"
   ]
  },
  {
   "cell_type": "markdown",
   "metadata": {},
   "source": [
    "### Part 1"
   ]
  },
  {
   "cell_type": "code",
   "execution_count": null,
   "metadata": {},
   "outputs": [],
   "source": [
    "def find_all_paths(graph, cur_path, end, part2=False):\n",
    "\n",
    "    all_paths = []\n",
    "\n",
    "    start = cur_path[-1]\n",
    "    for node in graph[start]:\n",
    "        counter = Counter(cur_path)\n",
    "        if (\n",
    "            node not in cur_path\n",
    "            or node in big_caves\n",
    "            or (\n",
    "                node in small_caves\n",
    "                and all(counter[sm] <= 1 for sm in small_caves)\n",
    "                and part2 == True\n",
    "            )\n",
    "        ):\n",
    "            new_path = cur_path.copy()\n",
    "            new_path.append(node)\n",
    "            if node == end:\n",
    "                all_paths.append(new_path)\n",
    "            else:\n",
    "                new_paths = find_all_paths(graph, new_path, end, part2)\n",
    "                all_paths.extend(new_paths)\n",
    "\n",
    "    return all_paths"
   ]
  },
  {
   "cell_type": "code",
   "execution_count": null,
   "metadata": {},
   "outputs": [],
   "source": [
    "paths = find_all_paths(graph, [\"start\"], \"end\")"
   ]
  },
  {
   "cell_type": "code",
   "execution_count": null,
   "metadata": {},
   "outputs": [],
   "source": [
    "answ = len(paths)\n",
    "answ"
   ]
  },
  {
   "cell_type": "code",
   "execution_count": null,
   "metadata": {},
   "outputs": [],
   "source": [
    "puzzle.answer_a = answ"
   ]
  },
  {
   "cell_type": "markdown",
   "metadata": {},
   "source": [
    "### Part 2"
   ]
  },
  {
   "cell_type": "code",
   "execution_count": null,
   "metadata": {},
   "outputs": [],
   "source": [
    "paths_2 = find_all_paths(graph, [\"start\"], \"end\", True)"
   ]
  },
  {
   "cell_type": "code",
   "execution_count": null,
   "metadata": {},
   "outputs": [],
   "source": [
    "answ = len(paths_2)\n",
    "answ"
   ]
  },
  {
   "cell_type": "code",
   "execution_count": null,
   "metadata": {},
   "outputs": [],
   "source": [
    "puzzle.answer_b = answ"
   ]
  },
  {
   "cell_type": "markdown",
   "metadata": {},
   "source": [
    "## Day 11\n",
    "https://adventofcode.com/2021/day/11\n",
    "### Prepare input "
   ]
  },
  {
   "cell_type": "code",
   "execution_count": null,
   "metadata": {},
   "outputs": [],
   "source": [
    "puzzle = Puzzle(year=2021, day=11)\n",
    "content = [[int(char) for char in line] for line in puzzle.input_data.split(\"\\n\")]"
   ]
  },
  {
   "cell_type": "markdown",
   "metadata": {},
   "source": [
    "### Part 1"
   ]
  },
  {
   "cell_type": "code",
   "execution_count": null,
   "metadata": {},
   "outputs": [],
   "source": [
    "from itertools import product\n",
    "\n",
    "list(product([-1, 0, 1], repeat=2))"
   ]
  },
  {
   "cell_type": "code",
   "execution_count": null,
   "metadata": {},
   "outputs": [],
   "source": [
    "def get_adjacents(idx: int, jdx: int) -> tp.List[tp.Tuple[int, int]]:\n",
    "\n",
    "    return [\n",
    "        (idx + dy, jdx + dx)\n",
    "        for dx, dy in product([-1, 0, 1], repeat=2)\n",
    "        if dx != 0 or dy != 0\n",
    "    ]"
   ]
  },
  {
   "cell_type": "code",
   "execution_count": null,
   "metadata": {},
   "outputs": [],
   "source": [
    "def check(n_flashes: int, levels: np.array, point: tp.Tuple[int, int]):\n",
    "\n",
    "    h, w = levels.shape\n",
    "\n",
    "    levels[point] = 0\n",
    "    n_flashes += 1\n",
    "\n",
    "    adjacents = get_adjacents(point[0], point[1])\n",
    "    for adj in adjacents:\n",
    "        if 0 <= adj[0] < h and 0 <= adj[1] < w:\n",
    "            if levels[adj] not in {0, 10}:\n",
    "                levels[adj] += 1\n",
    "                if levels[adj] == 10:\n",
    "                    n_flashes, levels = check(n_flashes, levels, adj)\n",
    "\n",
    "    return n_flashes, levels"
   ]
  },
  {
   "cell_type": "code",
   "execution_count": null,
   "metadata": {},
   "outputs": [],
   "source": [
    "def one_step(levels: np.array) -> tp.Tuple[int, np.array]:\n",
    "\n",
    "    h, w = levels.shape\n",
    "\n",
    "    n_flashes = 0\n",
    "\n",
    "    levels += 1\n",
    "\n",
    "    for y in range(h):\n",
    "        for x in range(w):\n",
    "            if levels[y, x] == 10:\n",
    "                cur_flashes, cur_levels = check(n_flashes, levels, (y, x))\n",
    "                n_flashes = cur_flashes\n",
    "                levels = cur_levels\n",
    "\n",
    "    return n_flashes, levels"
   ]
  },
  {
   "cell_type": "code",
   "execution_count": null,
   "metadata": {},
   "outputs": [],
   "source": [
    "levels = np.array(content)\n",
    "\n",
    "tot_flashes = 0\n",
    "for _ in range(100):\n",
    "    n_flashes, levels = one_step(levels)\n",
    "    tot_flashes += n_flashes\n",
    "\n",
    "tot_flashes"
   ]
  },
  {
   "cell_type": "code",
   "execution_count": null,
   "metadata": {},
   "outputs": [],
   "source": [
    "puzzle.answer_a = tot_flashes"
   ]
  },
  {
   "cell_type": "markdown",
   "metadata": {},
   "source": [
    "### Part 2"
   ]
  },
  {
   "cell_type": "code",
   "execution_count": null,
   "metadata": {},
   "outputs": [],
   "source": [
    "levels = np.array(content)\n",
    "\n",
    "count = 0\n",
    "while levels.any():\n",
    "    _, levels = one_step(levels)\n",
    "    count += 1\n",
    "\n",
    "count"
   ]
  },
  {
   "cell_type": "code",
   "execution_count": null,
   "metadata": {},
   "outputs": [],
   "source": [
    "puzzle.answer_b = count"
   ]
  },
  {
   "cell_type": "markdown",
   "metadata": {},
   "source": [
    "## Day 10\n",
    "https://adventofcode.com/2021/day/10\n",
    "### Prepare input "
   ]
  },
  {
   "cell_type": "code",
   "execution_count": null,
   "metadata": {},
   "outputs": [],
   "source": [
    "puzzle = Puzzle(year=2021, day=10)\n",
    "content = puzzle.input_data.split(\"\\n\")"
   ]
  },
  {
   "cell_type": "markdown",
   "metadata": {},
   "source": [
    "### Part 1"
   ]
  },
  {
   "cell_type": "code",
   "execution_count": null,
   "metadata": {},
   "outputs": [],
   "source": [
    "char_map = {\"(\": \")\", \"[\": \"]\", \"{\": \"}\", \"<\": \">\"}"
   ]
  },
  {
   "cell_type": "code",
   "execution_count": null,
   "metadata": {},
   "outputs": [],
   "source": [
    "def check_corrupted(line: str) -> tp.Union[str, None]:\n",
    "    cur_chunk = deque()\n",
    "    for char in line:\n",
    "        if char in char_map.keys():\n",
    "            cur_chunk.append(char)\n",
    "        elif char in char_map.values():\n",
    "            last_char = cur_chunk.pop()\n",
    "            if char_map[last_char] != char:\n",
    "                return char"
   ]
  },
  {
   "cell_type": "code",
   "execution_count": null,
   "metadata": {},
   "outputs": [],
   "source": [
    "corrupted = [check_corrupted(line) for line in content]"
   ]
  },
  {
   "cell_type": "code",
   "execution_count": null,
   "metadata": {},
   "outputs": [],
   "source": [
    "char_points = {\n",
    "    \")\": 3,\n",
    "    \"]\": 57,\n",
    "    \"}\": 1197,\n",
    "    \">\": 25137,\n",
    "    None: 0,\n",
    "}\n",
    "\n",
    "points = sum(char_points[char] for char in corrupted)"
   ]
  },
  {
   "cell_type": "code",
   "execution_count": null,
   "metadata": {},
   "outputs": [],
   "source": [
    "points"
   ]
  },
  {
   "cell_type": "code",
   "execution_count": null,
   "metadata": {},
   "outputs": [],
   "source": [
    "puzzle.answer_a = points"
   ]
  },
  {
   "cell_type": "markdown",
   "metadata": {},
   "source": [
    "### Part 2"
   ]
  },
  {
   "cell_type": "code",
   "execution_count": null,
   "metadata": {},
   "outputs": [],
   "source": [
    "new_content = set(content) - set([line for _, line, _ in corrupted])"
   ]
  },
  {
   "cell_type": "code",
   "execution_count": null,
   "metadata": {},
   "outputs": [],
   "source": [
    "char_points = {\n",
    "    \")\": 1,\n",
    "    \"]\": 2,\n",
    "    \"}\": 3,\n",
    "    \">\": 4,\n",
    "}\n",
    "\n",
    "\n",
    "def close_open_line(line: str):\n",
    "    open_seq = deque()\n",
    "    for char in line:\n",
    "        if char in char_map.keys():\n",
    "            open_seq.append(char)\n",
    "        elif char in char_map.values():\n",
    "            last_char = open_seq.pop()\n",
    "\n",
    "    score = 0\n",
    "    while open_seq:\n",
    "        cur_char = open_seq.pop()\n",
    "        closing_char = char_map[cur_char]\n",
    "        score *= 5\n",
    "        score += char_points[closing_char]\n",
    "\n",
    "    return score"
   ]
  },
  {
   "cell_type": "code",
   "execution_count": null,
   "metadata": {},
   "outputs": [],
   "source": [
    "total_scores = [close_open_line(line) for line in new_content]"
   ]
  },
  {
   "cell_type": "code",
   "execution_count": null,
   "metadata": {},
   "outputs": [],
   "source": [
    "total_scores.sort()"
   ]
  },
  {
   "cell_type": "code",
   "execution_count": null,
   "metadata": {},
   "outputs": [],
   "source": [
    "answ = total_scores[len(total_scores) // 2]\n",
    "answ"
   ]
  },
  {
   "cell_type": "code",
   "execution_count": null,
   "metadata": {},
   "outputs": [],
   "source": [
    "puzzle.answer_b = answ"
   ]
  },
  {
   "cell_type": "markdown",
   "metadata": {},
   "source": [
    "## Day 9\n",
    "https://adventofcode.com/2021/day/9\n",
    "### Prepare input "
   ]
  },
  {
   "cell_type": "code",
   "execution_count": null,
   "metadata": {},
   "outputs": [],
   "source": [
    "puzzle = Puzzle(year=2021, day=9)\n",
    "content = puzzle.input_data.split(\"\\n\")"
   ]
  },
  {
   "cell_type": "code",
   "execution_count": null,
   "metadata": {},
   "outputs": [],
   "source": [
    "depth = defaultdict(lambda: 10)\n",
    "\n",
    "for y, line in enumerate(content):\n",
    "    for x, point in enumerate(line):\n",
    "        depth[(x, y)] = int(point)"
   ]
  },
  {
   "cell_type": "markdown",
   "metadata": {},
   "source": [
    "### Part 1"
   ]
  },
  {
   "cell_type": "code",
   "execution_count": null,
   "metadata": {},
   "outputs": [],
   "source": [
    "def get_adjacents(idx: int, jdx: int) -> tp.List[tp.Tuple[int, int]]:\n",
    "    return [(idx - 1, jdx), (idx + 1, jdx), (idx, jdx - 1), (idx, jdx + 1)]"
   ]
  },
  {
   "cell_type": "code",
   "execution_count": null,
   "metadata": {},
   "outputs": [],
   "source": [
    "# must define since dict changes size during iteration\n",
    "height = len(content)\n",
    "width = len(content[0])\n",
    "\n",
    "low = []\n",
    "\n",
    "for x in range(width):\n",
    "    for y in range(height):\n",
    "        val = depth[(x, y)]\n",
    "\n",
    "        adjacents = get_adjacents(x, y)\n",
    "\n",
    "        if all(depth[adj] > val for adj in adjacents):\n",
    "            low.append((x, y))"
   ]
  },
  {
   "cell_type": "code",
   "execution_count": null,
   "metadata": {},
   "outputs": [],
   "source": [
    "answ = sum(depth[point] + 1 for point in low)\n",
    "answ"
   ]
  },
  {
   "cell_type": "code",
   "execution_count": null,
   "metadata": {},
   "outputs": [],
   "source": [
    "submit(answ, part=\"a\", day=9, year=2021)"
   ]
  },
  {
   "cell_type": "markdown",
   "metadata": {},
   "source": [
    "### Part 2"
   ]
  },
  {
   "cell_type": "code",
   "execution_count": null,
   "metadata": {},
   "outputs": [],
   "source": [
    "def get_bassin_size(point: tp.Tuple[int, int], seen: tp.Optional[tp.Set] = None) -> int:\n",
    "\n",
    "    seen = seen if seen is not None else set()\n",
    "\n",
    "    x, y = point\n",
    "\n",
    "    adjacents = get_adjacents(x, y)\n",
    "\n",
    "    size = 0\n",
    "    for adj in adjacents:\n",
    "        if adj not in seen and depth[adj] < 9:\n",
    "            seen.add(adj)\n",
    "            size += 1 + get_bassin_size(adj, seen)\n",
    "\n",
    "    return size"
   ]
  },
  {
   "cell_type": "code",
   "execution_count": null,
   "metadata": {},
   "outputs": [],
   "source": [
    "bassin_sizes = []\n",
    "\n",
    "for point in low:\n",
    "    bassin_sizes.append(get_bassin_size(point))\n",
    "\n",
    "answ = math.prod(sorted(bassin_sizes)[-3:])\n",
    "answ"
   ]
  },
  {
   "cell_type": "code",
   "execution_count": null,
   "metadata": {},
   "outputs": [],
   "source": [
    "submit(answ, part=\"b\", day=9, year=2021)"
   ]
  },
  {
   "cell_type": "markdown",
   "metadata": {},
   "source": [
    "## Day 8\n",
    "https://adventofcode.com/2021/day/8\n",
    "### Prepare input "
   ]
  },
  {
   "cell_type": "markdown",
   "metadata": {},
   "source": [
    "### Part 1"
   ]
  },
  {
   "cell_type": "code",
   "execution_count": null,
   "metadata": {},
   "outputs": [],
   "source": [
    "puzzle = Puzzle(year=2021, day=8)\n",
    "content = [x.split(\" | \") for x in puzzle.input_data.split(\"\\n\")]\n",
    "content = [[x1.split(\" \"), x2.split(\" \")] for x1, x2 in content]"
   ]
  },
  {
   "cell_type": "markdown",
   "metadata": {},
   "source": [
    "### Part 1"
   ]
  },
  {
   "cell_type": "code",
   "execution_count": null,
   "metadata": {},
   "outputs": [],
   "source": [
    "n_segments = {0: 6, 1: 2, 2: 5, 3: 5, 4: 4, 5: 5, 6: 6, 7: 3, 8: 7, 9: 6}"
   ]
  },
  {
   "cell_type": "code",
   "execution_count": null,
   "metadata": {},
   "outputs": [],
   "source": [
    "answ = 0\n",
    "for _, output in content:\n",
    "    for digits in output:\n",
    "        if len(digits) in {n_segments[1], n_segments[4], n_segments[7], n_segments[8]}:\n",
    "            answ += 1\n",
    "answ"
   ]
  },
  {
   "cell_type": "code",
   "execution_count": null,
   "metadata": {},
   "outputs": [],
   "source": [
    "submit(answ, part=\"a\", day=8, year=2021)"
   ]
  },
  {
   "cell_type": "markdown",
   "metadata": {},
   "source": [
    "### Part2"
   ]
  },
  {
   "cell_type": "code",
   "execution_count": null,
   "metadata": {},
   "outputs": [],
   "source": [
    "def decode(patterns: tp.Sequence[str]) -> tp.Dict[tp.FrozenSet, int]:\n",
    "\n",
    "    positions = {}\n",
    "    solutions = {}\n",
    "\n",
    "    solutions[1] = [el for el in patterns if len(el) == 2][0]\n",
    "    solutions[7] = [el for el in patterns if len(el) == 3][0]\n",
    "    solutions[4] = [el for el in patterns if len(el) == 4][0]\n",
    "    solutions[8] = [el for el in patterns if len(el) == 7][0]\n",
    "\n",
    "    positions[\"t\"] = set(solutions[7]) - set(solutions[1])\n",
    "\n",
    "    solutions[9] = [\n",
    "        el for el in patterns if len(el) == 6 and len(set(el) - set(solutions[4])) == 2\n",
    "    ][0]\n",
    "    positions[\"b\"] = set(solutions[9]) - set(solutions[4]) - positions[\"t\"]\n",
    "\n",
    "    solutions[0] = [\n",
    "        el\n",
    "        for el in patterns\n",
    "        if len(el) == 6 and el != solutions[9] and set(solutions[7]) <= set(el)\n",
    "    ][0]\n",
    "    solutions[6] = [\n",
    "        el\n",
    "        for el in patterns\n",
    "        if len(el) == 6 and el != solutions[9] and el != solutions[0]\n",
    "    ][0]\n",
    "\n",
    "    positions[\"m\"] = set(solutions[6]) - set(solutions[0])\n",
    "    positions[\"tr\"] = set(solutions[0]) - set(solutions[6])\n",
    "    positions[\"br\"] = set(solutions[1]) - positions[\"tr\"]\n",
    "\n",
    "    solutions[5] = [\n",
    "        el for el in patterns if len(el) == 5 and not (positions[\"tr\"] <= set(el))\n",
    "    ][0]\n",
    "    solutions[3] = [\n",
    "        el\n",
    "        for el in patterns\n",
    "        if len(el) == 5 and el != solutions[5] and positions[\"br\"] <= set(el)\n",
    "    ][0]\n",
    "    solutions[2] = [\n",
    "        el\n",
    "        for el in patterns\n",
    "        if len(el) == 5 and el != solutions[5] and el != solutions[3]\n",
    "    ][0]\n",
    "\n",
    "    return {frozenset(v): k for k, v in solutions.items()}"
   ]
  },
  {
   "cell_type": "code",
   "execution_count": null,
   "metadata": {},
   "outputs": [],
   "source": [
    "answ = 0\n",
    "for entry in content:\n",
    "    patterns, outputs = entry\n",
    "\n",
    "    code = decode(patterns)\n",
    "\n",
    "    result = 0\n",
    "    for out in outputs:\n",
    "        result = result * 10 + code[frozenset(out)]\n",
    "    answ += result\n",
    "\n",
    "answ"
   ]
  },
  {
   "cell_type": "code",
   "execution_count": null,
   "metadata": {},
   "outputs": [],
   "source": [
    "submit(answ, part=\"b\", day=8, year=2021)"
   ]
  },
  {
   "cell_type": "markdown",
   "metadata": {},
   "source": [
    "## Day 7\n",
    "https://adventofcode.com/2021/day/7\n",
    "### Prepare input "
   ]
  },
  {
   "cell_type": "code",
   "execution_count": null,
   "metadata": {},
   "outputs": [],
   "source": [
    "puzzle = Puzzle(year=2021, day=7)\n",
    "content = list(map(int, puzzle.input_data.split(\",\")))"
   ]
  },
  {
   "cell_type": "markdown",
   "metadata": {},
   "source": [
    "### Part 1"
   ]
  },
  {
   "cell_type": "code",
   "execution_count": null,
   "metadata": {},
   "outputs": [],
   "source": [
    "from statistics import median, mean"
   ]
  },
  {
   "cell_type": "code",
   "execution_count": null,
   "metadata": {},
   "outputs": [],
   "source": [
    "med_pos = int(median(content))\n",
    "\n",
    "\n",
    "def dist(pos: int) -> int:\n",
    "    return abs(pos - med_pos)\n",
    "\n",
    "\n",
    "answ = sum(map(dist, content))\n",
    "answ"
   ]
  },
  {
   "cell_type": "code",
   "execution_count": null,
   "metadata": {},
   "outputs": [],
   "source": [
    "submit(answ, part=\"a\", day=7, year=2021)"
   ]
  },
  {
   "cell_type": "markdown",
   "metadata": {},
   "source": [
    "### Part 2"
   ]
  },
  {
   "cell_type": "code",
   "execution_count": null,
   "metadata": {},
   "outputs": [],
   "source": [
    "mean_pos = int(mean(content))\n",
    "\n",
    "\n",
    "def dist2(pos: int) -> int:\n",
    "    n = abs(pos - mean_pos)\n",
    "    return n * (n + 1) // 2\n",
    "\n",
    "\n",
    "answ = sum(map(dist2, content))\n",
    "answ"
   ]
  },
  {
   "cell_type": "code",
   "execution_count": null,
   "metadata": {},
   "outputs": [],
   "source": [
    "submit(answ, part=\"b\", day=7, year=2021)"
   ]
  },
  {
   "cell_type": "markdown",
   "metadata": {},
   "source": [
    "## Day 6\n",
    "https://adventofcode.com/2021/day/6\n",
    "### Prepare input"
   ]
  },
  {
   "cell_type": "code",
   "execution_count": null,
   "metadata": {
    "scrolled": true
   },
   "outputs": [],
   "source": [
    "puzzle = Puzzle(year=2021, day=6)\n",
    "content = list(map(int, puzzle.input_data.split(\",\")))"
   ]
  },
  {
   "cell_type": "markdown",
   "metadata": {},
   "source": [
    "### Part 1"
   ]
  },
  {
   "cell_type": "code",
   "execution_count": null,
   "metadata": {},
   "outputs": [],
   "source": [
    "def iterate(cur_count: Counter) -> Counter:\n",
    "    new_count = Counter()\n",
    "    for timer in range(1, 9):\n",
    "        new_count[timer - 1] = cur_count[timer]\n",
    "    new_count[6] += cur_count[0]\n",
    "    new_count[8] += cur_count[0]\n",
    "\n",
    "    return new_count"
   ]
  },
  {
   "cell_type": "code",
   "execution_count": null,
   "metadata": {},
   "outputs": [],
   "source": [
    "count = Counter(content)\n",
    "for _ in range(80):\n",
    "    count = iterate(count)"
   ]
  },
  {
   "cell_type": "code",
   "execution_count": null,
   "metadata": {},
   "outputs": [],
   "source": [
    "answ = sum(count.values())\n",
    "answ"
   ]
  },
  {
   "cell_type": "code",
   "execution_count": null,
   "metadata": {},
   "outputs": [],
   "source": [
    "submit(answ, part=\"a\", day=6, year=2021)"
   ]
  },
  {
   "cell_type": "markdown",
   "metadata": {},
   "source": [
    "### Part 2"
   ]
  },
  {
   "cell_type": "code",
   "execution_count": null,
   "metadata": {},
   "outputs": [],
   "source": [
    "count = Counter(content)\n",
    "for _ in range(256):\n",
    "    count = iterate(count)\n",
    "\n",
    "answ = sum(count.values())\n",
    "answ"
   ]
  },
  {
   "cell_type": "code",
   "execution_count": null,
   "metadata": {},
   "outputs": [],
   "source": [
    "submit(answ, part=\"b\", day=6, year=2021)"
   ]
  },
  {
   "cell_type": "markdown",
   "metadata": {},
   "source": [
    "## Day 5\n",
    "https://adventofcode.com/2021/day/5\n",
    "### Prepare input"
   ]
  },
  {
   "cell_type": "code",
   "execution_count": null,
   "metadata": {},
   "outputs": [],
   "source": [
    "puzzle = Puzzle(year=2021, day=5)"
   ]
  },
  {
   "cell_type": "code",
   "execution_count": null,
   "metadata": {},
   "outputs": [],
   "source": [
    "content = puzzle.input_data.split(\"\\n\")"
   ]
  },
  {
   "cell_type": "code",
   "execution_count": null,
   "metadata": {},
   "outputs": [],
   "source": [
    "class Diagram:\n",
    "    def __init__(self, incontent: tp.Sequence[str]) -> None:\n",
    "\n",
    "        self.segments = [\n",
    "            [tuple(map(int, row.split(\",\"))) for row in line.split(\" -> \")]\n",
    "            for line in incontent\n",
    "        ]\n",
    "\n",
    "        self.rows = self.get_rows()\n",
    "        self.cols = self.get_cols()\n",
    "        self.diags = self.get_diags()\n",
    "\n",
    "        self.counter = Counter()\n",
    "\n",
    "    def get_rows(self) -> tp.List[tp.List[tp.Tuple[int, int]]]:\n",
    "        return [segm for segm in self.segments if segm[0][0] == segm[1][0]]\n",
    "\n",
    "    def get_cols(self) -> tp.List[tp.List[tp.Tuple[int, int]]]:\n",
    "        return [segm for segm in self.segments if segm[0][1] == segm[1][1]]\n",
    "\n",
    "    def get_diags(self) -> tp.List[tp.List[tp.Tuple[int, int]]]:\n",
    "        return [\n",
    "            segm\n",
    "            for segm in self.segments\n",
    "            if segm[0][0] != segm[1][0] and segm[0][1] != segm[1][1]\n",
    "        ]\n",
    "\n",
    "    def count_rows(self) -> None:\n",
    "        for (x1, y1), (x2, y2) in self.rows:\n",
    "            dy = 1 if y1 < y2 else -1\n",
    "            self.counter.update([(x1, y) for y in range(y1, y2 + dy, dy)])\n",
    "\n",
    "    def count_cols(self) -> None:\n",
    "        for (x1, y1), (x2, y2) in self.cols:\n",
    "            dx = 1 if x1 < x2 else -1\n",
    "            self.counter.update([(x, y1) for x in range(x1, x2 + dx, dx)])\n",
    "\n",
    "    def count_diags(self) -> None:\n",
    "        for (x1, y1), (x2, y2) in self.diags:\n",
    "            dx = 1 if x1 < x2 else -1\n",
    "            dy = 1 if y1 < y2 else -1\n",
    "            self.counter.update(\n",
    "                [(x, y) for x, y in zip(range(x1, x2 + dx, dx), range(y1, y2 + dy, dy))]\n",
    "            )\n",
    "\n",
    "    def overlap(self, part: int = 1) -> int:\n",
    "        self.reset_counter()\n",
    "\n",
    "        self.count_rows()\n",
    "        self.count_cols()\n",
    "        if part == 2:\n",
    "            self.count_diags()\n",
    "\n",
    "        return len([point for point, count in self.counter.items() if count >= 2])\n",
    "\n",
    "    def reset_counter(self) -> None:\n",
    "        self.counter = Counter()"
   ]
  },
  {
   "cell_type": "markdown",
   "metadata": {},
   "source": [
    "### Part 1"
   ]
  },
  {
   "cell_type": "code",
   "execution_count": null,
   "metadata": {},
   "outputs": [],
   "source": [
    "diagram = Diagram(content)"
   ]
  },
  {
   "cell_type": "code",
   "execution_count": null,
   "metadata": {},
   "outputs": [],
   "source": [
    "answ = diagram.overlap()\n",
    "answ"
   ]
  },
  {
   "cell_type": "code",
   "execution_count": null,
   "metadata": {},
   "outputs": [],
   "source": [
    "submit(answ, part=\"a\", day=5, year=2021)"
   ]
  },
  {
   "cell_type": "markdown",
   "metadata": {},
   "source": [
    "### Part 2"
   ]
  },
  {
   "cell_type": "code",
   "execution_count": null,
   "metadata": {},
   "outputs": [],
   "source": [
    "answ = diagram.overlap(2)\n",
    "answ"
   ]
  },
  {
   "cell_type": "code",
   "execution_count": null,
   "metadata": {},
   "outputs": [],
   "source": [
    "submit(answ, part=\"b\", day=5, year=2021)"
   ]
  },
  {
   "cell_type": "markdown",
   "metadata": {},
   "source": [
    "## Day 4\n",
    "https://adventofcode.com/2021/day/4\n",
    "### Prepare input "
   ]
  },
  {
   "cell_type": "code",
   "execution_count": null,
   "metadata": {},
   "outputs": [],
   "source": [
    "puzzle = Puzzle(year=2021, day=4)"
   ]
  },
  {
   "cell_type": "code",
   "execution_count": null,
   "metadata": {},
   "outputs": [],
   "source": [
    "content = puzzle.input_data.split(\"\\n\\n\")"
   ]
  },
  {
   "cell_type": "code",
   "execution_count": null,
   "metadata": {
    "scrolled": true
   },
   "outputs": [],
   "source": [
    "numbers = [int(x) for x in content[0].split(\",\")]"
   ]
  },
  {
   "cell_type": "code",
   "execution_count": null,
   "metadata": {},
   "outputs": [],
   "source": [
    "class Board:\n",
    "    def __init__(self, inboard: tp.Sequence[tp.Sequence[int]]) -> None:\n",
    "        self.board = np.array(inboard)\n",
    "        self.rows = [set(r) for r in self.board]\n",
    "        self.cols = [set(c) for c in np.transpose(self.board)]\n",
    "\n",
    "    def sum_leftover(self) -> int:\n",
    "        return sum(sum(r) for r in self.rows)\n",
    "\n",
    "    def discard_nb(self, nb: int) -> None:\n",
    "        self.rows = [r - {nb} for r in self.rows]\n",
    "        self.cols = [c - {nb} for c in self.cols]\n",
    "\n",
    "    def is_winner(self) -> bool:\n",
    "        return not (all(self.rows) and all(self.cols))"
   ]
  },
  {
   "cell_type": "code",
   "execution_count": null,
   "metadata": {},
   "outputs": [],
   "source": [
    "def set_boards(boards_content: tp.Sequence[str]) -> tp.List[Board]:\n",
    "    return [\n",
    "        Board([[int(n) for n in row.split()] for row in line.split(\"\\n\")])\n",
    "        for line in boards_content\n",
    "    ]"
   ]
  },
  {
   "cell_type": "code",
   "execution_count": null,
   "metadata": {},
   "outputs": [],
   "source": [
    "boards = set_boards(content[1:])\n",
    "\n",
    "success_rate = []\n",
    "for bdx, board in enumerate(boards):\n",
    "    for ndx, nb in enumerate(numbers):\n",
    "        board.discard_nb(nb)\n",
    "        if board.is_winner():\n",
    "            success_rate.append([ndx, nb * board.sum_leftover()])\n",
    "            break\n",
    "\n",
    "success_rate.sort(key=lambda x: x[0])"
   ]
  },
  {
   "cell_type": "markdown",
   "metadata": {},
   "source": [
    "### Part 1"
   ]
  },
  {
   "cell_type": "code",
   "execution_count": null,
   "metadata": {},
   "outputs": [],
   "source": [
    "answ = success_rate[0][1]\n",
    "answ"
   ]
  },
  {
   "cell_type": "code",
   "execution_count": null,
   "metadata": {},
   "outputs": [],
   "source": [
    "submit(answ, part=\"a\", day=4, year=2021)"
   ]
  },
  {
   "cell_type": "markdown",
   "metadata": {},
   "source": [
    "### Part 2"
   ]
  },
  {
   "cell_type": "code",
   "execution_count": null,
   "metadata": {},
   "outputs": [],
   "source": [
    "answ = success_rate[-1][1]\n",
    "answ"
   ]
  },
  {
   "cell_type": "code",
   "execution_count": null,
   "metadata": {},
   "outputs": [],
   "source": [
    "submit(answ, part=\"b\", day=4, year=2021)"
   ]
  },
  {
   "cell_type": "markdown",
   "metadata": {},
   "source": [
    "## Day 3\n",
    "https://adventofcode.com/2021/day/3\n",
    "### Prepare input"
   ]
  },
  {
   "cell_type": "code",
   "execution_count": null,
   "metadata": {},
   "outputs": [],
   "source": [
    "puzzle = Puzzle(year=2021, day=3)\n",
    "content = puzzle.input_data.split(\"\\n\")"
   ]
  },
  {
   "cell_type": "code",
   "execution_count": null,
   "metadata": {},
   "outputs": [],
   "source": [
    "content"
   ]
  },
  {
   "cell_type": "markdown",
   "metadata": {},
   "source": [
    "### Part 1"
   ]
  },
  {
   "cell_type": "code",
   "execution_count": null,
   "metadata": {},
   "outputs": [],
   "source": [
    "def transpose(inlist: tp.Sequence[str]) -> tp.List[str]:\n",
    "    return [\"\".join(s) for s in zip(*inlist)]"
   ]
  },
  {
   "cell_type": "code",
   "execution_count": null,
   "metadata": {},
   "outputs": [],
   "source": [
    "def bin2int(binary: tp.Union[str, tp.Sequence[str]]) -> int:\n",
    "    if isinstance(binary, list):\n",
    "        return int(\"\".join(binary), 2)\n",
    "    return int(binary, 2)"
   ]
  },
  {
   "cell_type": "code",
   "execution_count": null,
   "metadata": {},
   "outputs": [],
   "source": [
    "counters = [Counter(pos) for pos in transpose(content)]"
   ]
  },
  {
   "cell_type": "code",
   "execution_count": null,
   "metadata": {},
   "outputs": [],
   "source": [
    "gamma = [\"0\" if c[\"0\"] > c[\"1\"] else \"1\" for c in counters]\n",
    "eps = \"\".join(str(1 - int(x)) for x in gamma)"
   ]
  },
  {
   "cell_type": "code",
   "execution_count": null,
   "metadata": {},
   "outputs": [],
   "source": [
    "answ = bin2int(gamma) * bin2int(eps)\n",
    "answ"
   ]
  },
  {
   "cell_type": "code",
   "execution_count": null,
   "metadata": {
    "scrolled": true
   },
   "outputs": [],
   "source": [
    "submit(answ, part=\"a\", day=3, year=2021)"
   ]
  },
  {
   "cell_type": "markdown",
   "metadata": {},
   "source": [
    "### Part 2"
   ]
  },
  {
   "cell_type": "code",
   "execution_count": null,
   "metadata": {},
   "outputs": [],
   "source": [
    "def keep(inlist: tp.Sequence[str], bpos: int, bval: str) -> tp.List[str]:\n",
    "    return [el for el in inlist if el[bpos] == bval]"
   ]
  },
  {
   "cell_type": "code",
   "execution_count": null,
   "metadata": {},
   "outputs": [],
   "source": [
    "def apply_criteria(init: tp.Sequence[str], default: int) -> int:\n",
    "    out = init.copy()\n",
    "    idx = 0\n",
    "    while len(out) > 1:\n",
    "        counter = Counter(transpose(out)[idx])\n",
    "        if counter[\"0\"] > counter[\"1\"]:\n",
    "            out = keep(out, idx, str(1 - default))\n",
    "        else:\n",
    "            out = keep(out, idx, str(default))\n",
    "        idx += 1\n",
    "    return bin2int(out[0])"
   ]
  },
  {
   "cell_type": "code",
   "execution_count": null,
   "metadata": {},
   "outputs": [],
   "source": [
    "oxygen = apply_criteria(content, 1)\n",
    "co2 = apply_criteria(content, 0)\n",
    "anws = oxygen * co2\n",
    "answ"
   ]
  },
  {
   "cell_type": "code",
   "execution_count": null,
   "metadata": {
    "scrolled": true
   },
   "outputs": [],
   "source": [
    "submit(answ, part=\"b\", day=3, year=2021)"
   ]
  },
  {
   "cell_type": "markdown",
   "metadata": {},
   "source": [
    "## Day 2\n",
    "https://adventofcode.com/2021/day/2\n",
    "### Prepare input"
   ]
  },
  {
   "cell_type": "code",
   "execution_count": null,
   "metadata": {},
   "outputs": [],
   "source": [
    "puzzle = Puzzle(year=2021, day=2)"
   ]
  },
  {
   "cell_type": "code",
   "execution_count": null,
   "metadata": {},
   "outputs": [],
   "source": [
    "content = [x.split(\" \") for x in puzzle.input_data.split(\"\\n\")]"
   ]
  },
  {
   "cell_type": "code",
   "execution_count": null,
   "metadata": {
    "scrolled": true
   },
   "outputs": [],
   "source": [
    "content"
   ]
  },
  {
   "cell_type": "markdown",
   "metadata": {},
   "source": [
    "### Part 1"
   ]
  },
  {
   "cell_type": "code",
   "execution_count": null,
   "metadata": {},
   "outputs": [],
   "source": [
    "h_pos = 0\n",
    "depth = 0\n",
    "for step, x in content:\n",
    "    x = int(x)\n",
    "\n",
    "    if step == \"forward\":\n",
    "        h_pos += x\n",
    "    elif step == \"down\":\n",
    "        depth += x\n",
    "    elif step == \"up\":\n",
    "        depth -= x\n",
    "\n",
    "answ = h_pos * depth\n",
    "answ"
   ]
  },
  {
   "cell_type": "code",
   "execution_count": null,
   "metadata": {},
   "outputs": [],
   "source": [
    "submit(answ, part=\"a\", day=2, year=2021)"
   ]
  },
  {
   "cell_type": "markdown",
   "metadata": {},
   "source": [
    "### Part 2"
   ]
  },
  {
   "cell_type": "code",
   "execution_count": null,
   "metadata": {},
   "outputs": [],
   "source": [
    "h_pos = 0\n",
    "depth = 0\n",
    "aim = 0\n",
    "for step, x in content:\n",
    "    x = int(x)\n",
    "\n",
    "    if step == \"forward\":\n",
    "        h_pos += x\n",
    "        depth += aim * x\n",
    "    elif step == \"down\":\n",
    "        aim += x\n",
    "    elif step == \"up\":\n",
    "        aim -= x\n",
    "\n",
    "print(h_pos, depth, aim)\n",
    "answ = h_pos * depth\n",
    "answ"
   ]
  },
  {
   "cell_type": "code",
   "execution_count": null,
   "metadata": {},
   "outputs": [],
   "source": [
    "submit(answ, part=\"b\", day=2, year=2021)"
   ]
  },
  {
   "cell_type": "markdown",
   "metadata": {},
   "source": [
    "## Day 1\n",
    "https://adventofcode.com/2021/day/1"
   ]
  },
  {
   "cell_type": "markdown",
   "metadata": {},
   "source": [
    "### Prepare input"
   ]
  },
  {
   "cell_type": "code",
   "execution_count": null,
   "metadata": {},
   "outputs": [],
   "source": [
    "puzzle = Puzzle(year=2021, day=1)"
   ]
  },
  {
   "cell_type": "code",
   "execution_count": null,
   "metadata": {},
   "outputs": [],
   "source": [
    "content = [int(x) for x in puzzle.input_data.split(\"\\n\")]"
   ]
  },
  {
   "cell_type": "markdown",
   "metadata": {},
   "source": [
    "### Part 1"
   ]
  },
  {
   "cell_type": "code",
   "execution_count": null,
   "metadata": {},
   "outputs": [],
   "source": [
    "def count_increase(inlist: tp.Sequence[int]) -> int:\n",
    "    count = 0\n",
    "    for i in range(len(inlist) - 1):\n",
    "        if inlist[i] < inlist[i + 1]:\n",
    "            count += 1\n",
    "\n",
    "    return count"
   ]
  },
  {
   "cell_type": "code",
   "execution_count": null,
   "metadata": {},
   "outputs": [],
   "source": [
    "answ = count_increase(content)\n",
    "answ"
   ]
  },
  {
   "cell_type": "code",
   "execution_count": null,
   "metadata": {},
   "outputs": [],
   "source": [
    "submit(answ, part=\"a\", day=1, year=2021)"
   ]
  },
  {
   "cell_type": "markdown",
   "metadata": {},
   "source": [
    "### Part 2"
   ]
  },
  {
   "cell_type": "code",
   "execution_count": null,
   "metadata": {},
   "outputs": [],
   "source": [
    "sums = [sum(content[i : i + 3]) for i in range(len(content) - 2)]"
   ]
  },
  {
   "cell_type": "code",
   "execution_count": null,
   "metadata": {},
   "outputs": [],
   "source": [
    "answ = count_increase(sums)\n",
    "answ"
   ]
  },
  {
   "cell_type": "code",
   "execution_count": null,
   "metadata": {},
   "outputs": [],
   "source": [
    "submit(answ, part=\"b\", day=1, year=2021)"
   ]
  }
 ],
 "metadata": {
  "kernelspec": {
   "display_name": "Python 3",
   "language": "python",
   "name": "python3"
  },
  "language_info": {
   "codemirror_mode": {
    "name": "ipython",
    "version": 3
   },
   "file_extension": ".py",
   "mimetype": "text/x-python",
   "name": "python",
   "nbconvert_exporter": "python",
   "pygments_lexer": "ipython3",
   "version": "3.8.5"
  }
 },
 "nbformat": 4,
 "nbformat_minor": 2
}
